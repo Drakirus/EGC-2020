{
 "cells": [
  {
   "cell_type": "code",
   "execution_count": 91,
   "metadata": {},
   "outputs": [],
   "source": [
    "from french_lefff_lemmatizer.french_lefff_lemmatizer import FrenchLefffLemmatizer\n",
    "from nltk import pos_tag, word_tokenize\n",
    "from nltk.tag import StanfordPOSTagger\n",
    "from nltk.corpus import wordnet\n",
    "import pandas as pd\n",
    "from langdetect import detect\n",
    "from stop_words import get_stop_words\n",
    "from collections import defaultdict\n",
    "import pprint\n",
    "from googletrans import Translator\n",
    "import re\n",
    "\n",
    "#nltk.download('averaged_perceptron_tagger')\n",
    "#nltk.download('wordnet')\n"
   ]
  },
  {
   "cell_type": "code",
   "execution_count": 116,
   "metadata": {},
   "outputs": [],
   "source": [
    "stop_words = get_stop_words('fr')\n",
    "df = pd.read_csv('export_articles_EGC_2004_2018.csv', sep='\\t')\n",
    "#translator = Translator()\n",
    "lemmatizer = FrenchLefffLemmatizer()"
   ]
  },
  {
   "cell_type": "code",
   "execution_count": 93,
   "metadata": {},
   "outputs": [],
   "source": [
    "# translator.translate('안녕하세요.')"
   ]
  },
  {
   "cell_type": "code",
   "execution_count": 94,
   "metadata": {},
   "outputs": [
    {
     "name": "stdout",
     "output_type": "stream",
     "text": [
      "CPU times: user 8.52 s, sys: 129 ms, total: 8.65 s\n",
      "Wall time: 8.65 s\n"
     ]
    }
   ],
   "source": [
    "%%time\n",
    "\n",
    "def languagesDetectionDF(column):\n",
    "    languagesTitle = defaultdict(int)\n",
    "    for cell in df[column]:\n",
    "        if type(cell) is str:\n",
    "            languagesTitle[detect(cell)] += 1\n",
    "#         if lang != 'fr' and lang != 'en':\n",
    "#             print(title)\n",
    "    return languagesTitle\n",
    "\n",
    "languageTitle = languagesDetectionDF(\"title\")\n",
    "languageAbstract = languagesDetectionDF(\"abstract\")"
   ]
  },
  {
   "cell_type": "code",
   "execution_count": 95,
   "metadata": {},
   "outputs": [
    {
     "name": "stdout",
     "output_type": "stream",
     "text": [
      "Langage des titres : defaultdict(<class 'int'>, {'fr': 1133, 'en': 124, 'tl': 1, 'it': 1, 'ca': 5, 'de': 2, 'fi': 1, 'da': 1, 'af': 1})\n",
      "Langage des abstract : defaultdict(<class 'int'>, {'fr': 991, 'en': 105})\n"
     ]
    }
   ],
   "source": [
    "print(\"Langage des titres :\", languageTitle)\n",
    "\n",
    "print(\"Langage des abstract :\", languageAbstract)"
   ]
  },
  {
   "cell_type": "code",
   "execution_count": 96,
   "metadata": {},
   "outputs": [
    {
     "name": "stdout",
     "output_type": "stream",
     "text": [
      "73.06666666666666\n",
      "13.884558054938314\n",
      "56\n",
      "98\n"
     ]
    }
   ],
   "source": [
    "invYr = df.groupby(['year']).count()\n",
    "\n",
    "print(invYr['abstract'].mean())\n",
    "print(invYr['abstract'].std())\n",
    "print(invYr['abstract'].min())\n",
    "print(invYr['abstract'].max())"
   ]
  },
  {
   "cell_type": "code",
   "execution_count": 97,
   "metadata": {},
   "outputs": [],
   "source": [
    "#tagger fr\n",
    "jar = 'stanford-postagger-full-2018-10-16/stanford-postagger-3.9.2.jar'\n",
    "model = 'stanford-postagger-full-2018-10-16/models/french.tagger'\n",
    "import os\n",
    "java_path = \"/usr/bin/java\"\n",
    "os.environ['JAVAHOME'] = java_path\n",
    "\n",
    "#appel super long\n",
    "pos_tagger = StanfordPOSTagger(model, jar, encoding='utf8' )"
   ]
  },
  {
   "cell_type": "code",
   "execution_count": 98,
   "metadata": {},
   "outputs": [
    {
     "name": "stdout",
     "output_type": "stream",
     "text": [
      "CPU times: user 28 µs, sys: 2 µs, total: 30 µs\n",
      "Wall time: 42.2 µs\n"
     ]
    }
   ],
   "source": [
    "%%time\n",
    "def wordNetTag(tag):\n",
    "    if tag.startswith('J'):\n",
    "        return wordnet.ADJ\n",
    "    elif tag.startswith('V'):\n",
    "        return wordnet.VERB\n",
    "    elif tag.startswith('N'):\n",
    "        return wordnet.NOUN\n",
    "    elif tag.startswith('R'):\n",
    "        return wordnet.ADV\n",
    "    else:\n",
    "        return None\n",
    "    \n",
    "def lemma(tokenizedText):\n",
    "    taggedText = pos_tagger.tag(tokenizedText)\n",
    "    res = []\n",
    "    for word in taggedText:\n",
    "        tag = wordNetTag(word[1])\n",
    "        if tag:\n",
    "            res.append(lemmatizer.lemmatize(word[0], tag))\n",
    "\n",
    "        else:\n",
    "            res.append(lemmatizer.lemmatize(word[0]))\n",
    "    return(res)\n"
   ]
  },
  {
   "cell_type": "code",
   "execution_count": 99,
   "metadata": {},
   "outputs": [
    {
     "name": "stdout",
     "output_type": "stream",
     "text": [
      "CPU times: user 3 µs, sys: 0 ns, total: 3 µs\n",
      "Wall time: 5.72 µs\n"
     ]
    }
   ],
   "source": [
    "%%time\n",
    "def lemmatizerDF(dfColumn):\n",
    "    columnLemma = []\n",
    "    for cell in dfColumn:\n",
    "        if type(cell) is str:\n",
    "            if detect(cell) == 'fr':\n",
    "                filtered_sentence = [w.lower() for w in word_tokenize(cell) if not w in stop_words] \n",
    "                columnLemma.append(' '.join(lemma(filtered_sentence)))\n",
    "            else:\n",
    "                columnLemma.append(cell)\n",
    "        else:\n",
    "            columnLemma.append('')\n",
    "    return columnLemma\n",
    "        "
   ]
  },
  {
   "cell_type": "code",
   "execution_count": 12,
   "metadata": {},
   "outputs": [
    {
     "name": "stdout",
     "output_type": "stream",
     "text": [
      "CPU times: user 7.47 s, sys: 5.73 s, total: 13.2 s\n",
      "Wall time: 7min 52s\n"
     ]
    }
   ],
   "source": [
    "%%time\n",
    "\n",
    "#C'est très long parce que chaque utilisation du tagger prend environ une demie seconde et qu'on l'utilise pour chaque ligne\n",
    "\n",
    "titleLemma = lemmatizerDF(df[\"title\"])"
   ]
  },
  {
   "cell_type": "code",
   "execution_count": 13,
   "metadata": {},
   "outputs": [
    {
     "name": "stdout",
     "output_type": "stream",
     "text": [
      "CPU times: user 7.52 s, sys: 5.31 s, total: 12.8 s\n",
      "Wall time: 9min 1s\n"
     ]
    }
   ],
   "source": [
    "%%time\n",
    "\n",
    "#C'est très long parce que chaque utilisation du tagger prend environ une demie seconde et qu'on l'utilise pour chaque ligne\n",
    "\n",
    "abstractLemma = lemmatizerDF(df[\"abstract\"])"
   ]
  },
  {
   "cell_type": "code",
   "execution_count": 40,
   "metadata": {},
   "outputs": [
    {
     "ename": "NameError",
     "evalue": "name 'titleLemma' is not defined",
     "output_type": "error",
     "traceback": [
      "\u001b[0;31m---------------------------------------------------------------------------\u001b[0m",
      "\u001b[0;31mNameError\u001b[0m                                 Traceback (most recent call last)",
      "\u001b[0;32m<ipython-input-40-785decdb844a>\u001b[0m in \u001b[0;36m<module>\u001b[0;34m\u001b[0m\n\u001b[0;32m----> 1\u001b[0;31m \u001b[0mdf\u001b[0m\u001b[0;34m[\u001b[0m\u001b[0;34m\"titleLemma\"\u001b[0m\u001b[0;34m]\u001b[0m \u001b[0;34m=\u001b[0m \u001b[0mtitleLemma\u001b[0m\u001b[0;34m\u001b[0m\u001b[0m\n\u001b[0m\u001b[1;32m      2\u001b[0m \u001b[0mdf\u001b[0m\u001b[0;34m[\u001b[0m\u001b[0;34m\"abstractLemma\"\u001b[0m\u001b[0;34m]\u001b[0m \u001b[0;34m=\u001b[0m \u001b[0mabstractLemma\u001b[0m\u001b[0;34m\u001b[0m\u001b[0m\n",
      "\u001b[0;31mNameError\u001b[0m: name 'titleLemma' is not defined"
     ]
    }
   ],
   "source": [
    "df[\"titleLemma\"] = titleLemma\n",
    "df[\"abstractLemma\"] = abstractLemma"
   ]
  },
  {
   "cell_type": "code",
   "execution_count": 24,
   "metadata": {},
   "outputs": [],
   "source": [
    "df.to_csv('dataLemmatized.csv')"
   ]
  }
 ],
 "metadata": {
  "kernelspec": {
   "display_name": "Python 3",
   "language": "python",
   "name": "python3"
  },
  "language_info": {
   "codemirror_mode": {
    "name": "ipython",
    "version": 3
   },
   "file_extension": ".py",
   "mimetype": "text/x-python",
   "name": "python",
   "nbconvert_exporter": "python",
   "pygments_lexer": "ipython3",
   "version": "3.6.6"
  }
 },
 "nbformat": 4,
 "nbformat_minor": 2
}
