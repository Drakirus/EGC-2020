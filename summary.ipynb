{
 "cells": [
  {
   "cell_type": "code",
   "execution_count": 26,
   "metadata": {},
   "outputs": [],
   "source": [
    "import pandas as pd\n",
    "pd.set_option(\"display.width\", 380)\n",
    "pd.set_option('max_colwidth', 200)\n",
    "\n",
    "from langdetect import detect\n",
    "\n",
    "from IPython.display import display\n",
    "\n",
    "import seaborn as sns\n",
    "import matplotlib.pyplot as plt\n",
    "%matplotlib inline\n",
    "\n",
    "#To handle warning\n",
    "import warnings\n",
    "warnings.filterwarnings('ignore')\n",
    "warnings.filterwarnings(\"ignore\",category=DeprecationWarning)"
   ]
  },
  {
   "cell_type": "code",
   "execution_count": 27,
   "metadata": {},
   "outputs": [],
   "source": [
    "df = pd.read_csv(\"./dataLemmatized.csv\", sep=',')"
   ]
  },
  {
   "cell_type": "markdown",
   "metadata": {},
   "source": [
    "## Distribution of articles over the years\n",
    "With an average of 73 articles per year for a standard deviation of 18, there is a difference between years, but it is reasonable."
   ]
  },
  {
   "cell_type": "code",
   "execution_count": 28,
   "metadata": {},
   "outputs": [
    {
     "data": {
      "image/png": "[encoded data removed]",
      "text/plain": [
       "<Figure size 1440x576 with 1 Axes>"
      ]
     },
     "metadata": {
      "needs_background": "dark"
     },
     "output_type": "display_data"
    },
    {
     "name": "stdout",
     "output_type": "stream",
     "text": [
      "Grand total of 1269 articles\n"
     ]
    }
   ],
   "source": [
    "invYr = df.groupby(['year']).count()\n",
    "sns.barplot(x=invYr.index, y=invYr.series)\n",
    "plt.title(\"Distribution of the number of articles over year\", fontsize= 24, color='gray')\n",
    "plt.ylabel(\"Number of articles\", fontsize=12, color='gray')\n",
    "plt.xlabel(\"Years\", fontsize=12, color='gray')\n",
    "fig=plt.gcf()\n",
    "fig.set_size_inches(20,8)\n",
    "\n",
    "## PlotSwagg ##\n",
    "plt.yticks(fontsize=14, rotation=0, color='gray')\n",
    "plt.xticks(fontsize=14, rotation=0, color='gray')\n",
    "\n",
    "# Less border\n",
    "plt.gca().yaxis.grid(True)\n",
    "plt.gca().spines['left'].set_visible(False)\n",
    "plt.gca().spines['right'].set_visible(False)\n",
    "plt.gca().spines['top'].set_visible(False)\n",
    "plt.gca().spines['bottom'].set_edgecolor('gray')\n",
    "\n",
    "# line under the bar\n",
    "plt.gca().set_axisbelow(True)\n",
    "\n",
    "plt.show()\n",
    "print(\"Grand total of %d articles\" % len(df))"
   ]
  },
  {
   "cell_type": "markdown",
   "metadata": {},
   "source": [
    "## Lemmatization and tokenization was performed beforehand"
   ]
  },
  {
   "cell_type": "code",
   "execution_count": 29,
   "metadata": {
    "scrolled": false
   },
   "outputs": [
    {
     "data": {
      "text/html": [
       "<div>\n",
       "<style scoped>\n",
       "    .dataframe tbody tr th:only-of-type {\n",
       "        vertical-align: middle;\n",
       "    }\n",
       "\n",
       "    .dataframe tbody tr th {\n",
       "        vertical-align: top;\n",
       "    }\n",
       "\n",
       "    .dataframe thead th {\n",
       "        text-align: right;\n",
       "    }\n",
       "</style>\n",
       "<table border=\"1\" class=\"dataframe\">\n",
       "  <thead>\n",
       "    <tr style=\"text-align: right;\">\n",
       "      <th></th>\n",
       "      <th>lem_prepro_title</th>\n",
       "      <th>lem_prepro_abstract</th>\n",
       "    </tr>\n",
       "  </thead>\n",
       "  <tbody>\n",
       "    <tr>\n",
       "      <th>0</th>\n",
       "      <td>plateforme citoyen dédié analyser tweets événement politique</td>\n",
       "      <td>plateforme objectif permettre citoyen analyserpar même tweets politique événement spécifique france élection présidentiel analyser quasitemps message candidat fournir principal caractéristique usa...</td>\n",
       "    </tr>\n",
       "    <tr>\n",
       "      <th>1</th>\n",
       "      <td>algorithme clustering niveau grand ensemble donnée</td>\n",
       "      <td>classification croisé clustering technique permettre extraire structuresous jacent existant entre ligne colonne tabler donnée forme bloc plusieurs application utiliser technique cependant nombreux...</td>\n",
       "    </tr>\n",
       "    <tr>\n",
       "      <th>2</th>\n",
       "      <td>algeospf modèle factorisation clustering géographique recommandation</td>\n",
       "      <td>recommandation point intérêt devenir caractéristiqueessentielle réseau social localiser accompagnél émergence échange massif donnée digital cependantles faible densités point intérêt visiter utili...</td>\n",
       "    </tr>\n",
       "    <tr>\n",
       "      <th>3</th>\n",
       "      <td>analyser sentiment partir commentaire facebook publier arabe standard dialectal marocain approche apprentissage automatique</td>\n",
       "      <td>analyser sentiment processus pendant lequel polarité positif négatif neutre texte donner déterminé intéressonsdans travail analyser sentiment partir commentairesfacebook réel partager arabe standa...</td>\n",
       "    </tr>\n",
       "    <tr>\n",
       "      <th>4</th>\n",
       "      <td>analyser rôle sémantique résumer automatique</td>\n",
       "      <td>article présent approcher viser extraire information expriméesdans corpus texte produire résumer plusieurs variante deméthodes extractif résumer texte implémenter évaluer leurprincipale originalit...</td>\n",
       "    </tr>\n",
       "  </tbody>\n",
       "</table>\n",
       "</div>"
      ],
      "text/plain": [
       "                                                                                                              lem_prepro_title                                                                                                                                                                                      lem_prepro_abstract\n",
       "0                                                                 plateforme citoyen dédié analyser tweets événement politique  plateforme objectif permettre citoyen analyserpar même tweets politique événement spécifique france élection présidentiel analyser quasitemps message candidat fournir principal caractéristique usa...\n",
       "1                                                                           algorithme clustering niveau grand ensemble donnée  classification croisé clustering technique permettre extraire structuresous jacent existant entre ligne colonne tabler donnée forme bloc plusieurs application utiliser technique cependant nombreux...\n",
       "2                                                         algeospf modèle factorisation clustering géographique recommandation  recommandation point intérêt devenir caractéristiqueessentielle réseau social localiser accompagnél émergence échange massif donnée digital cependantles faible densités point intérêt visiter utili...\n",
       "3  analyser sentiment partir commentaire facebook publier arabe standard dialectal marocain approche apprentissage automatique  analyser sentiment processus pendant lequel polarité positif négatif neutre texte donner déterminé intéressonsdans travail analyser sentiment partir commentairesfacebook réel partager arabe standa...\n",
       "4                                                                                 analyser rôle sémantique résumer automatique  article présent approcher viser extraire information expriméesdans corpus texte produire résumer plusieurs variante deméthodes extractif résumer texte implémenter évaluer leurprincipale originalit..."
      ]
     },
     "metadata": {},
     "output_type": "display_data"
    }
   ],
   "source": [
    "# Do the French Lem and Prepros\n",
    "df['lem_prepro_title'] = df['titleLemma']\n",
    "df['lem_prepro_abstract'] =  df['abstractLemma']\n",
    "\n",
    "# Display the result\n",
    "display(df[['lem_prepro_title' ,'lem_prepro_abstract']].head())"
   ]
  },
  {
   "cell_type": "markdown",
   "metadata": {},
   "source": [
    "## Selection of the feature on which the analysis will be performed"
   ]
  },
  {
   "cell_type": "code",
   "execution_count": 30,
   "metadata": {},
   "outputs": [
    {
     "data": {
      "text/plain": [
       "0    [plateforme, citoyen, dédié, analyser, tweets, événement, politique, plateforme, objectif, permettre, citoyen, analyserpar, même, tweets, politique, événement, spécifique, france, élection, présid...\n",
       "1    [algorithme, clustering, niveau, grand, ensemble, donnée, classification, croisé, clustering, technique, permettre, extraire, structuresous, jacent, existant, entre, ligne, colonne, tabler, donnée...\n",
       "2    [algeospf, modèle, factorisation, clustering, géographique, recommandation, recommandation, point, intérêt, devenir, caractéristiqueessentielle, réseau, social, localiser, accompagnél, émergence, ...\n",
       "3    [analyser, sentiment, partir, commentaire, facebook, publier, arabe, standard, dialectal, marocain, approche, apprentissage, automatique, analyser, sentiment, processus, pendant, lequel, polarité,...\n",
       "4    [analyser, rôle, sémantique, résumer, automatique, article, présent, approcher, viser, extraire, information, expriméesdans, corpus, texte, produire, résumer, plusieurs, variante, deméthodes, extr...\n",
       "dtype: object"
      ]
     },
     "metadata": {},
     "output_type": "display_data"
    }
   ],
   "source": [
    "# with ou without the abstract\n",
    "WITH_ABST = True\n",
    "\n",
    "def join_with_nan(subset_df):\n",
    "    res = []\n",
    "    if subset_df['lem_prepro_title'] is not pd.np.nan:\n",
    "        res += subset_df['lem_prepro_title'].split()\n",
    "    if WITH_ABST and subset_df['lem_prepro_abstract'] is not pd.np.nan:\n",
    "        res += subset_df['lem_prepro_abstract'].split()\n",
    "    return res\n",
    "\n",
    "# Join the lematized title and abstract\n",
    "df_all_lem = df.apply(join_with_nan, axis=1)\n",
    "display(df_all_lem.head())\n"
   ]
  },
  {
   "cell_type": "markdown",
   "metadata": {},
   "source": [
    "## Remove Stopwords"
   ]
  },
  {
   "cell_type": "code",
   "execution_count": 31,
   "metadata": {},
   "outputs": [],
   "source": [
    "import gensim\n",
    "\n",
    "# Custom Stop words\n",
    "custom_stop_words = ['algorithme', 'étude', 'méthode', 'approche', 'nouvelle', 'algorithme', 'automatique', 'système'\n",
    "                    'source', 'exemple', 'concevoir', 'ensuite', 'définir', 'effectuer', 'donnée', 'permettre', \"ainsi\", \"entre\",\n",
    "                    'souvent', 'utiliser', 'variable', 'technique', 'masse']\n",
    "df_all_lem = df_all_lem.apply(lambda word_list: [word for word in word_list if word not in custom_stop_words])"
   ]
  },
  {
   "cell_type": "markdown",
   "metadata": {},
   "source": [
    "## Create the Dictionary and Corpus needed for Topic Modeling\n",
    "[source](https://towardsdatascience.com/topic-modeling-and-latent-dirichlet-allocation-in-python-9bf156893c24)"
   ]
  },
  {
   "cell_type": "code",
   "execution_count": 32,
   "metadata": {},
   "outputs": [
    {
     "name": "stdout",
     "output_type": "stream",
     "text": [
      "0 analyser\n",
      "1 analyserpar\n",
      "2 candidat\n",
      "3 caractéristique\n",
      "4 citoyen\n",
      "5 comparaison\n",
      "6 dédié\n",
      "7 fournir\n",
      "8 france\n",
      "9 lexique\n",
      "10 message\n"
     ]
    }
   ],
   "source": [
    "# Create Dictionary\n",
    "id2word = gensim.corpora.Dictionary(df_all_lem)\n",
    "\n",
    "count = 0\n",
    "for k, v in id2word.iteritems():\n",
    "    print(k, v)\n",
    "    count += 1\n",
    "    if count > 10:\n",
    "        break"
   ]
  },
  {
   "cell_type": "markdown",
   "metadata": {},
   "source": [
    "## Remove tokens from the dictionary before Topic Modeling"
   ]
  },
  {
   "cell_type": "code",
   "execution_count": 33,
   "metadata": {},
   "outputs": [],
   "source": [
    "# Filter out tokens that appear in \n",
    "id2word.filter_extremes(no_below=10,   # - less than X documents (absolute number)\n",
    "                        no_above=0.90, # - more than X documents (fraction of total corpus size, not absolute number)\n",
    "                        keep_n=100)  # - after the above two steps, keep only the first X most frequent tokens.\n",
    "\n",
    "bow_corpus = [id2word.doc2bow(doc) for doc in df_all_lem]"
   ]
  },
  {
   "cell_type": "code",
   "execution_count": 34,
   "metadata": {},
   "outputs": [
    {
     "data": {
      "text/plain": [
       "'plateforme, citoyen, dédié, analyser, tweets, événement, politique, plateforme, objectif, citoyen, analyserpar, même, tweets, politique, événement, spécifique, france, élection, présidentiel, analyser, quasitemps, message, candidat, fournir, principal, caractéristique, usage, lexique, politique, comparaison, candidat'"
      ]
     },
     "metadata": {},
     "output_type": "display_data"
    },
    {
     "name": "stdout",
     "output_type": "stream",
     "text": [
      "Word 0 (\"analyser\") appears 2 time.\n",
      "Word 1 (\"fournir\") appears 1 time.\n",
      "Word 2 (\"objectif\") appears 1 time.\n"
     ]
    }
   ],
   "source": [
    "first_bow_doc = bow_corpus[0]\n",
    "\n",
    "# Pandas df\n",
    "display(\", \".join(df_all_lem[0]))\n",
    "\n",
    "# bow representation\n",
    "for i in range(len(first_bow_doc)):\n",
    "    print(\"Word {} (\\\"{}\\\") appears {} time.\".format(first_bow_doc[i][0],\n",
    "                                               id2word[first_bow_doc[i][0]],\n",
    "                                               first_bow_doc[i][1]))"
   ]
  },
  {
   "cell_type": "markdown",
   "metadata": {},
   "source": [
    "## tf-idf"
   ]
  },
  {
   "cell_type": "code",
   "execution_count": 35,
   "metadata": {},
   "outputs": [
    {
     "data": {
      "text/plain": [
       "[(0, 0.6485060166653575), (1, 0.583282948648047), (2, 0.4891021858111766)]"
      ]
     },
     "metadata": {},
     "output_type": "display_data"
    }
   ],
   "source": [
    "tfidf = gensim.models.TfidfModel(bow_corpus)\n",
    "corpus_tfidf = tfidf[bow_corpus]\n",
    "for doc in corpus_tfidf:\n",
    "    display(doc)\n",
    "    break"
   ]
  },
  {
   "cell_type": "markdown",
   "metadata": {},
   "source": [
    "## Building the Topic Model"
   ]
  },
  {
   "cell_type": "code",
   "execution_count": 36,
   "metadata": {},
   "outputs": [],
   "source": [
    "USE_TF_IDF = True\n",
    "\n",
    "corpus_for_lda = bow_corpus\n",
    "if USE_TF_IDF:\n",
    "    corpus_for_lda = corpus_tfidf\n",
    "\n",
    "lda_model = gensim.models.LdaMulticore(corpus_tfidf, num_topics=500, id2word=id2word, passes=2,  workers=4)"
   ]
  },
  {
   "cell_type": "code",
   "execution_count": 37,
   "metadata": {},
   "outputs": [
    {
     "name": "stdout",
     "output_type": "stream",
     "text": [
      "\n",
      "Topic: 0 \n",
      "Words: 0.010*\"prendre\" + 0.010*\"baser\" + 0.010*\"meilleur\" + 0.010*\"relation\" + 0.010*\"compte\" + 0.010*\"classe\" + 0.010*\"domaine\" + 0.010*\"construire\" + 0.010*\"améliorer\" + 0.010*\"utilisation\"\n",
      "\n",
      "Topic: 1 \n",
      "Words: 0.163*\"fonction\" + 0.160*\"système\" + 0.150*\"cadre\" + 0.110*\"rechercher\" + 0.085*\"apprentissage\" + 0.060*\"traiter\" + 0.046*\"recherche\" + 0.029*\"tâche\" + 0.022*\"proposer\" + 0.021*\"travail\"\n",
      "\n",
      "Topic: 2 \n",
      "Words: 0.010*\"prendre\" + 0.010*\"baser\" + 0.010*\"meilleur\" + 0.010*\"relation\" + 0.010*\"compte\" + 0.010*\"classe\" + 0.010*\"domaine\" + 0.010*\"construire\" + 0.010*\"améliorer\" + 0.010*\"utilisation\"\n",
      "\n",
      "Topic: 3 \n",
      "Words: 0.100*\"pouvoir\" + 0.075*\"pertinent\" + 0.070*\"traitement\" + 0.069*\"donner\" + 0.064*\"important\" + 0.061*\"outil\" + 0.061*\"temps\" + 0.060*\"nombre\" + 0.058*\"cadre\" + 0.058*\"grand\"\n",
      "\n",
      "Topic: 4 \n",
      "Words: 0.381*\"extraction\" + 0.096*\"information\" + 0.053*\"système\" + 0.053*\"partir\" + 0.036*\"fonction\" + 0.036*\"analyser\" + 0.027*\"document\" + 0.026*\"résultat\" + 0.018*\"dernier\" + 0.018*\"tâche\"\n"
     ]
    }
   ],
   "source": [
    "for idx, topic in lda_model.print_topics(-1)[:5]:\n",
    "    print('\\nTopic: {} \\nWords: {}'.format(idx, topic))"
   ]
  },
  {
   "cell_type": "markdown",
   "metadata": {},
   "source": [
    "## Visualize the topics-keywords"
   ]
  },
  {
   "cell_type": "code",
   "execution_count": 38,
   "metadata": {},
   "outputs": [
    {
     "name": "stdout",
     "output_type": "stream",
     "text": [
      "Couldn't plot the LDA viewer\n"
     ]
    }
   ],
   "source": [
    "import pyLDAvis.gensim\n",
    "from metakernel.display import display\n",
    "\n",
    "try:\n",
    "    lda_display = pyLDAvis.gensim.prepare(lda_model, bow_corpus, id2word, sort_topics=False)\n",
    "    pyLDAvis.display(lda_display)\n",
    "except:\n",
    "    print(\"Couldn't plot the LDA viewer\")"
   ]
  },
  {
   "cell_type": "markdown",
   "metadata": {},
   "source": [
    "## Evaluate LDA\n",
    "The Coherence score is used for evaluation of topic models.  \n",
    "[paper](http://svn.aksw.org/papers/2015/WSDM_Topic_Evaluation/public.pdf)"
   ]
  },
  {
   "cell_type": "code",
   "execution_count": 39,
   "metadata": {
    "scrolled": true
   },
   "outputs": [
    {
     "name": "stdout",
     "output_type": "stream",
     "text": [
      "\n",
      "Coherence Score:  0.33572582761025593\n"
     ]
    }
   ],
   "source": [
    "from gensim.models.coherencemodel import CoherenceModel\n",
    "\n",
    "# Compute Coherence Score\n",
    "coherence_model_lda = CoherenceModel(model=lda_model, texts=df_all_lem, dictionary=id2word, coherence='c_v')\n",
    "coherence_lda = coherence_model_lda.get_coherence()\n",
    "print('\\nCoherence Score: ', coherence_lda)"
   ]
  },
  {
   "cell_type": "markdown",
   "metadata": {},
   "source": [
    "## Find the optimal number of topics for LDA\n",
    "Choosing a ‘k’ that marks the end of a rapid growth of topic coherence usually offers meaningful and interpretable topics. Picking an even higher value can sometimes provide more granular sub-topics.\n",
    "\n",
    "If you see the same keywords being repeated in multiple topics, it’s probably a sign that the ‘k’ is too large.  \n",
    "[source](https://www.machinelearningplus.com/nlp/topic-modeling-gensim-python/)"
   ]
  },
  {
   "cell_type": "code",
   "execution_count": 40,
   "metadata": {},
   "outputs": [],
   "source": [
    "def compute_coherence_values(dictionary, corpus, texts, limit, start=2, step=3):\n",
    "    \"\"\"\n",
    "    Compute c_v coherence for various number of topics\n",
    "\n",
    "    Parameters:\n",
    "    ----------\n",
    "    dictionary : Gensim dictionary\n",
    "    corpus : Gensim corpus\n",
    "    texts : List of input texts\n",
    "    limit : Max num of topics\n",
    "\n",
    "    Returns:\n",
    "    -------\n",
    "    model_list : List of LDA topic models\n",
    "    coherence_values : Coherence values corresponding to the LDA model with respective number of topics\n",
    "    \"\"\"\n",
    "    coherence_values = []\n",
    "    model_list = []\n",
    "    for num_topics in range(start, limit, step):\n",
    "        model = gensim.models.LdaMulticore(corpus=corpus, num_topics=num_topics, id2word=id2word)\n",
    "        model_list.append(model)\n",
    "        coherencemodel = CoherenceModel(model=model, texts=texts, dictionary=dictionary, coherence='c_v')\n",
    "        coherence_values.append(coherencemodel.get_coherence())\n",
    "\n",
    "    return model_list, coherence_values"
   ]
  },
  {
   "cell_type": "code",
   "execution_count": 41,
   "metadata": {
    "scrolled": false
   },
   "outputs": [],
   "source": [
    "if False:\n",
    "    # Can take a long time to run.\n",
    "    limit=900; start=50; step=20;\n",
    "    model_list, coherence_values = compute_coherence_values(\n",
    "        dictionary=id2word,\n",
    "        corpus=bow_corpus,\n",
    "        texts=df_all_lem,\n",
    "        start=start,\n",
    "        limit=limit,\n",
    "        step=step)\n",
    "\n",
    "    # Show graph\n",
    "    x = range(start, limit, step)\n",
    "    plt.plot(x, coherence_values)\n",
    "    plt.xlabel(\"Num Topics\")\n",
    "    plt.ylabel(\"Coherence score\")\n",
    "    plt.legend((\"coherence_values\"), loc='best')\n",
    "    plt.show()\n",
    "\n",
    "    ### Print the coherence scores\n",
    "    for m, cv in zip(x, coherence_values):\n",
    "        print(\"Num Topics =\", m, \" has Coherence Value of\", round(cv, 4))"
   ]
  },
  {
   "cell_type": "markdown",
   "metadata": {},
   "source": [
    "## With the LDA's topics, perform a clustering algorithm"
   ]
  },
  {
   "cell_type": "code",
   "execution_count": 42,
   "metadata": {},
   "outputs": [],
   "source": [
    "corpus_lda = lda_model[bow_corpus]\n",
    "\n",
    "# gensim sparse matrix to scipy sparse matrix\n",
    "lda_csc_matrix = gensim.matutils.corpus2csc(corpus_lda).transpose() "
   ]
  },
  {
   "cell_type": "markdown",
   "metadata": {},
   "source": [
    "## Kmeans takes the topics and reduce them to  ideas"
   ]
  },
  {
   "cell_type": "code",
   "execution_count": 43,
   "metadata": {
    "scrolled": true
   },
   "outputs": [
    {
     "name": "stdout",
     "output_type": "stream",
     "text": [
      "LDA matrix shape (input to KMeans): (1269, 499)\n"
     ]
    },
    {
     "data": {
      "text/html": [
       "<div>\n",
       "<style scoped>\n",
       "    .dataframe tbody tr th:only-of-type {\n",
       "        vertical-align: middle;\n",
       "    }\n",
       "\n",
       "    .dataframe tbody tr th {\n",
       "        vertical-align: top;\n",
       "    }\n",
       "\n",
       "    .dataframe thead th {\n",
       "        text-align: right;\n",
       "    }\n",
       "</style>\n",
       "<table border=\"1\" class=\"dataframe\">\n",
       "  <thead>\n",
       "    <tr style=\"text-align: right;\">\n",
       "      <th></th>\n",
       "      <th>0</th>\n",
       "      <th>1</th>\n",
       "      <th>2</th>\n",
       "      <th>3</th>\n",
       "      <th>4</th>\n",
       "      <th>5</th>\n",
       "      <th>6</th>\n",
       "      <th>7</th>\n",
       "      <th>8</th>\n",
       "      <th>9</th>\n",
       "      <th>...</th>\n",
       "      <th>1259</th>\n",
       "      <th>1260</th>\n",
       "      <th>1261</th>\n",
       "      <th>1262</th>\n",
       "      <th>1263</th>\n",
       "      <th>1264</th>\n",
       "      <th>1265</th>\n",
       "      <th>1266</th>\n",
       "      <th>1267</th>\n",
       "      <th>1268</th>\n",
       "    </tr>\n",
       "  </thead>\n",
       "  <tbody>\n",
       "    <tr>\n",
       "      <th>0</th>\n",
       "      <td>4</td>\n",
       "      <td>5</td>\n",
       "      <td>4</td>\n",
       "      <td>4</td>\n",
       "      <td>4</td>\n",
       "      <td>4</td>\n",
       "      <td>4</td>\n",
       "      <td>4</td>\n",
       "      <td>4</td>\n",
       "      <td>5</td>\n",
       "      <td>...</td>\n",
       "      <td>0</td>\n",
       "      <td>9</td>\n",
       "      <td>6</td>\n",
       "      <td>4</td>\n",
       "      <td>1</td>\n",
       "      <td>5</td>\n",
       "      <td>8</td>\n",
       "      <td>9</td>\n",
       "      <td>7</td>\n",
       "      <td>8</td>\n",
       "    </tr>\n",
       "  </tbody>\n",
       "</table>\n",
       "<p>1 rows × 1269 columns</p>\n",
       "</div>"
      ],
      "text/plain": [
       "   0     1     2     3     4     5     6     7     8     9     ...   1259  1260  1261  1262  1263  1264  1265  1266  1267  1268\n",
       "0     4     5     4     4     4     4     4     4     4     5  ...      0     9     6     4     1     5     8     9     7     8\n",
       "\n",
       "[1 rows x 1269 columns]"
      ]
     },
     "metadata": {},
     "output_type": "display_data"
    }
   ],
   "source": [
    "%matplotlib inline\n",
    "import matplotlib.pyplot as plt\n",
    "import numpy as np\n",
    "from sklearn import metrics\n",
    "from sklearn.cluster import KMeans\n",
    "from sklearn.cluster import AffinityPropagation\n",
    "\n",
    "# https://scikit-learn.org/stable/auto_examples/cluster/plot_kmeans_silhouette_analysis.html\n",
    "\n",
    "print('LDA matrix shape (input to KMeans):', lda_csc_matrix.shape)\n",
    "\n",
    "km = KMeans(n_clusters=10, init='k-means++', max_iter=100, n_init=100, verbose=False, random_state=1)\n",
    "km.fit(lda_csc_matrix)\n",
    "\n",
    "display(pd.DataFrame(km.labels_).T)\n",
    "\n",
    "df['pred'] = km.labels_\n",
    "n_clusters = km.n_clusters"
   ]
  },
  {
   "cell_type": "code",
   "execution_count": 44,
   "metadata": {},
   "outputs": [],
   "source": [
    "class cluster_label():\n",
    "    def __init__(self, topic_id, value, lda_model_words):\n",
    "        self.topic_id = topic_id\n",
    "        self.value = value\n",
    "        self.words = lda_model_words[topic_id]\n",
    "    def __repr__(self):\n",
    "        return \"{}\".format(\" \".join([word[0] for word in self.words[1]]))\n",
    "        # return '{}: {} {} {}'.format(self.__class__.__name__,\n",
    "                                  # self.topic_id,\n",
    "                                  # self.value,\n",
    "                                  # self.words\n",
    "                                  #)\n",
    "    def __cmp__(self, other):\n",
    "        if hasattr(other, 'topic'):\n",
    "            return self.topic_id.__cmp__(other.topic_id)"
   ]
  },
  {
   "cell_type": "code",
   "execution_count": 45,
   "metadata": {},
   "outputs": [],
   "source": [
    "testing = {}\n",
    "lda_words = lda_model.show_topics(-1, formatted=False)\n",
    "for cluster in range(n_clusters):\n",
    "    values_dence = lda_csc_matrix[np.where(df['pred'] == cluster)]\n",
    "    coo = values_dence.tocoo()\n",
    "    \n",
    "    maximize = []\n",
    "    for row, col in zip(coo.row, coo.col):\n",
    "        label = cluster_label(col, values_dence.toarray()[row][col], lda_words)\n",
    "\n",
    "        trigger = True\n",
    "\n",
    "        for la in maximize:\n",
    "            if la.topic_id == col and la.value < label.value:\n",
    "                trigger = True\n",
    "                maximize.remove(la)\n",
    "                break\n",
    "\n",
    "            if la.topic_id == col and la.value > label.value:\n",
    "                trigger = False\n",
    "\n",
    "\n",
    "        if trigger:\n",
    "            maximize.append(label)\n",
    "\n",
    "    first5 = (sorted(maximize, key=lambda x: x.value, reverse=True))[:5]\n",
    "\n",
    "\n",
    "    testing[cluster] = first5"
   ]
  },
  {
   "cell_type": "markdown",
   "metadata": {},
   "source": [
    "## Evaluate Kmeans\n",
    "Silhouette refers to a method of interpretation and validation of consistency within clusters of data.  \n",
    "[how-to-interpret-mean-of-silhouette-plot](https://stats.stackexchange.com/q/12923)"
   ]
  },
  {
   "cell_type": "code",
   "execution_count": 46,
   "metadata": {},
   "outputs": [
    {
     "name": "stdout",
     "output_type": "stream",
     "text": [
      "Silhouette Coefficient: 0.07308327531206255\n"
     ]
    }
   ],
   "source": [
    "# Compute the SILHOUETTE score\n",
    "silhouette_avg = metrics.silhouette_score(lda_csc_matrix, km.labels_)\n",
    "print('Silhouette Coefficient:', silhouette_avg)"
   ]
  },
  {
   "cell_type": "markdown",
   "metadata": {},
   "source": [
    "## Distribution of idea over the years"
   ]
  },
  {
   "cell_type": "code",
   "execution_count": 47,
   "metadata": {},
   "outputs": [],
   "source": [
    "# Year sampling, (-> ['2004 to 2006', '2007 to 2009', .. ])\n",
    "NUM_OF_SEP = 5 # number of partition"
   ]
  },
  {
   "cell_type": "code",
   "execution_count": 51,
   "metadata": {
    "scrolled": false
   },
   "outputs": [
    {
     "data": {
      "text/html": [
       "<div>\n",
       "<style scoped>\n",
       "    .dataframe tbody tr th:only-of-type {\n",
       "        vertical-align: middle;\n",
       "    }\n",
       "\n",
       "    .dataframe tbody tr th {\n",
       "        vertical-align: top;\n",
       "    }\n",
       "\n",
       "    .dataframe thead tr th {\n",
       "        text-align: left;\n",
       "    }\n",
       "</style>\n",
       "<table border=\"1\" class=\"dataframe\">\n",
       "  <thead>\n",
       "    <tr>\n",
       "      <th></th>\n",
       "      <th>year</th>\n",
       "      <th colspan=\"10\" halign=\"left\">2004</th>\n",
       "      <th>...</th>\n",
       "      <th colspan=\"10\" halign=\"left\">2006</th>\n",
       "    </tr>\n",
       "    <tr>\n",
       "      <th></th>\n",
       "      <th>pred</th>\n",
       "      <th>0</th>\n",
       "      <th>1</th>\n",
       "      <th>2</th>\n",
       "      <th>3</th>\n",
       "      <th>4</th>\n",
       "      <th>5</th>\n",
       "      <th>6</th>\n",
       "      <th>7</th>\n",
       "      <th>8</th>\n",
       "      <th>9</th>\n",
       "      <th>...</th>\n",
       "      <th>0</th>\n",
       "      <th>1</th>\n",
       "      <th>2</th>\n",
       "      <th>3</th>\n",
       "      <th>4</th>\n",
       "      <th>5</th>\n",
       "      <th>6</th>\n",
       "      <th>7</th>\n",
       "      <th>8</th>\n",
       "      <th>9</th>\n",
       "    </tr>\n",
       "  </thead>\n",
       "  <tbody>\n",
       "    <tr>\n",
       "      <th>pred</th>\n",
       "      <th>count</th>\n",
       "      <td>3</td>\n",
       "      <td>3</td>\n",
       "      <td>6</td>\n",
       "      <td>2</td>\n",
       "      <td>39</td>\n",
       "      <td>4</td>\n",
       "      <td>3</td>\n",
       "      <td>5</td>\n",
       "      <td>7</td>\n",
       "      <td>10</td>\n",
       "      <td>...</td>\n",
       "      <td>5</td>\n",
       "      <td>1</td>\n",
       "      <td>8</td>\n",
       "      <td>3</td>\n",
       "      <td>41</td>\n",
       "      <td>6</td>\n",
       "      <td>1</td>\n",
       "      <td>21</td>\n",
       "      <td>7</td>\n",
       "      <td>10</td>\n",
       "    </tr>\n",
       "  </tbody>\n",
       "</table>\n",
       "<p>1 rows × 30 columns</p>\n",
       "</div>"
      ],
      "text/plain": [
       "year       2004                              ... 2006                              \n",
       "pred          0  1  2  3   4  5  6  7  8   9 ...    0  1  2  3   4  5  6   7  8   9\n",
       "pred count    3  3  6  2  39  4  3  5  7  10 ...    5  1  8  3  41  6  1  21  7  10\n",
       "\n",
       "[1 rows x 30 columns]"
      ]
     },
     "metadata": {},
     "output_type": "display_data"
    },
    {
     "data": {
      "text/plain": [
       "Int64Index([2004, 2007, 2011, 2014, 2018], dtype='int64')"
      ]
     },
     "metadata": {},
     "output_type": "display_data"
    },
    {
     "data": {
      "text/html": [
       "<div>\n",
       "<style scoped>\n",
       "    .dataframe tbody tr th:only-of-type {\n",
       "        vertical-align: middle;\n",
       "    }\n",
       "\n",
       "    .dataframe tbody tr th {\n",
       "        vertical-align: top;\n",
       "    }\n",
       "\n",
       "    .dataframe thead th {\n",
       "        text-align: right;\n",
       "    }\n",
       "</style>\n",
       "<table border=\"1\" class=\"dataframe\">\n",
       "  <thead>\n",
       "    <tr style=\"text-align: right;\">\n",
       "      <th></th>\n",
       "      <th>2004 - 2007</th>\n",
       "      <th>2007 - 2011</th>\n",
       "      <th>2011 - 2014</th>\n",
       "      <th>2014 - 2018</th>\n",
       "    </tr>\n",
       "  </thead>\n",
       "  <tbody>\n",
       "    <tr>\n",
       "      <th>0</th>\n",
       "      <td>0.205882</td>\n",
       "      <td>0.343137</td>\n",
       "      <td>0.225490</td>\n",
       "      <td>0.225490</td>\n",
       "    </tr>\n",
       "    <tr>\n",
       "      <th>1</th>\n",
       "      <td>0.171875</td>\n",
       "      <td>0.328125</td>\n",
       "      <td>0.218750</td>\n",
       "      <td>0.281250</td>\n",
       "    </tr>\n",
       "    <tr>\n",
       "      <th>2</th>\n",
       "      <td>0.454545</td>\n",
       "      <td>0.309091</td>\n",
       "      <td>0.145455</td>\n",
       "      <td>0.090909</td>\n",
       "    </tr>\n",
       "    <tr>\n",
       "      <th>3</th>\n",
       "      <td>0.171053</td>\n",
       "      <td>0.328947</td>\n",
       "      <td>0.289474</td>\n",
       "      <td>0.210526</td>\n",
       "    </tr>\n",
       "    <tr>\n",
       "      <th>4</th>\n",
       "      <td>0.215774</td>\n",
       "      <td>0.328869</td>\n",
       "      <td>0.200893</td>\n",
       "      <td>0.254464</td>\n",
       "    </tr>\n",
       "    <tr>\n",
       "      <th>5</th>\n",
       "      <td>0.225352</td>\n",
       "      <td>0.366197</td>\n",
       "      <td>0.183099</td>\n",
       "      <td>0.225352</td>\n",
       "    </tr>\n",
       "    <tr>\n",
       "      <th>6</th>\n",
       "      <td>0.222222</td>\n",
       "      <td>0.222222</td>\n",
       "      <td>0.194444</td>\n",
       "      <td>0.361111</td>\n",
       "    </tr>\n",
       "    <tr>\n",
       "      <th>7</th>\n",
       "      <td>0.247826</td>\n",
       "      <td>0.304348</td>\n",
       "      <td>0.208696</td>\n",
       "      <td>0.239130</td>\n",
       "    </tr>\n",
       "    <tr>\n",
       "      <th>8</th>\n",
       "      <td>0.206061</td>\n",
       "      <td>0.296970</td>\n",
       "      <td>0.200000</td>\n",
       "      <td>0.296970</td>\n",
       "    </tr>\n",
       "    <tr>\n",
       "      <th>9</th>\n",
       "      <td>0.480519</td>\n",
       "      <td>0.259740</td>\n",
       "      <td>0.064935</td>\n",
       "      <td>0.194805</td>\n",
       "    </tr>\n",
       "  </tbody>\n",
       "</table>\n",
       "</div>"
      ],
      "text/plain": [
       "   2004 - 2007  2007 - 2011  2011 - 2014  2014 - 2018\n",
       "0     0.205882     0.343137     0.225490     0.225490\n",
       "1     0.171875     0.328125     0.218750     0.281250\n",
       "2     0.454545     0.309091     0.145455     0.090909\n",
       "3     0.171053     0.328947     0.289474     0.210526\n",
       "4     0.215774     0.328869     0.200893     0.254464\n",
       "5     0.225352     0.366197     0.183099     0.225352\n",
       "6     0.222222     0.222222     0.194444     0.361111\n",
       "7     0.247826     0.304348     0.208696     0.239130\n",
       "8     0.206061     0.296970     0.200000     0.296970\n",
       "9     0.480519     0.259740     0.064935     0.194805"
      ]
     },
     "metadata": {},
     "output_type": "display_data"
    }
   ],
   "source": [
    "# Group the year, while keeping the prediction dissimilarity AND count the number of article for onw prediction\n",
    "A = df.groupby(['year', 'pred']).agg({'pred': ['count']})\n",
    "\n",
    "# Result is MultiIndex dataframe\n",
    "display(A.query('year <= 2006').T)\n",
    "\n",
    "df_label_count_sampled_year = pd.DataFrame(index=[x for x in range(n_clusters)])\n",
    "\n",
    "start = pd.Timestamp('2004')\n",
    "end = pd.Timestamp('2018')\n",
    "ye_sampling = np.linspace(start.value, end.value, NUM_OF_SEP)\n",
    "ye_sampling = pd.to_datetime(ye_sampling).year\n",
    "display(ye_sampling)\n",
    "\n",
    "# For each year's partitions\n",
    "for start, end in zip(ye_sampling[:-1], ye_sampling[1:]):\n",
    "    \n",
    "    # query the current partition into the df\n",
    "    _splited_df = A.query('year >= '+ str(start) + ' & year < ' + str(end+1)) \n",
    "\n",
    "    # label conter for each year of the partition\n",
    "    from collections import defaultdict\n",
    "    class_count = {}\n",
    "    class_count = defaultdict(lambda:0, class_count)\n",
    "\n",
    "    for ((year, label_id, a), count_obj) in _splited_df.stack().iterrows():\n",
    "        class_count[label_id] += count_obj[0]\n",
    "        # VERBOSE\n",
    "        # print(\"Year {} has a label {:3} documents related to the label id: {:3}\".format(year, count_obj[0], label_id ))\n",
    "\n",
    "    # total of document for each label of the current partition\n",
    "    class_count = dict(class_count)\n",
    "    # VERBOSE\n",
    "    # display(class_count)\n",
    "\n",
    "    df_label_count_sampled_year[\"{} - {}\".format(start, end)] = pd.Series(class_count)\n",
    "\n",
    "# To percent\n",
    "df_label_count_sampled_year = df_label_count_sampled_year.apply(lambda x: x / x.sum(), axis=1)\n",
    "\n",
    "display(df_label_count_sampled_year)"
   ]
  },
  {
   "cell_type": "code",
   "execution_count": 49,
   "metadata": {
    "scrolled": false
   },
   "outputs": [
    {
     "data": {
      "text/plain": [
       "{0: [ensemble motif montrer extraction extraire partir construire étudier efficace classe,\n",
       "  application réel présenter expérimentation intérêt partir proposer évaluation baser papier,\n",
       "  motif manière décrire intérêt nombreux expérimentation plusieurs donner extraire modèle,\n",
       "  document extraction information ensemble partir extraire appliquer construire approcher nouveau,\n",
       "  modèle problème visualisation performance ensemble supervisé consister donner application dernier],\n",
       " 1: [classification baser donner supervisé mesure temps application problème domaine différent,\n",
       "  étudier ensemble baser classification forme niveau travail cadre présenter construire,\n",
       "  problème papier extraction performance efficace application montrer mesure extraire règle,\n",
       "  relation nombreux visualisation proposer rechercher extraction utilisateur évaluer plusieurs pouvoir,\n",
       "  tâche algorithmes performance évaluer décrire différent supervisé règle classification connaissance],\n",
       " 2: [règle nombre problème système apprentissage base fonction construction améliorer différent,\n",
       "  classe classification modèle montrer construction nombre évaluation structure cadre réel,\n",
       "  connaissance approcher recherche appliquer meilleur règle problème base ensemble performance,\n",
       "  extraction décrire document utilisateur outil utilisation extraire application règle recherche,\n",
       "  outil information donner utilisateur document application apprentissage recherche qualité pertinent],\n",
       " 3: [information réseau proposer nombreux baser analyser expérimentation objectif pouvoir processus,\n",
       "  recherche motif qualité mesure classe problème cependant algorithmes baser tâche,\n",
       "  recherche motif qualité mesure classe problème cependant algorithmes baser tâche,\n",
       "  recherche motif qualité mesure classe problème cependant algorithmes baser tâche,\n",
       "  système analyser baser dernier forme résultat règle visualisation graphes différent],\n",
       " 4: [partir sémantique structure document processus approcher relation présenter évaluer concept,\n",
       "  présent classification algorithmes résultat recherche montrer supervisé donner partir présenter,\n",
       "  mesure résultat problème existant fournir plusieurs fonction évaluation présenter document,\n",
       "  domaine proposer cadre approcher qualité réel connaissance consister travail plusieurs,\n",
       "  classification document résultat obtenir supervisé important cependant visualisation consister qualité],\n",
       " 5: [nouveau cependant important grand améliorer apprentissage algorithmes performance processus structure,\n",
       "  améliorer rechercher connaissance proposer clustering application plusieurs recherche réseau article,\n",
       "  système compte meilleur prendre problème proposer partir utilisateur pertinent différent,\n",
       "  texte domaine rechercher fouille connaissance système document mesure évaluer article,\n",
       "  ensemble donner traiter grand visualisation pouvoir traitement classification forme niveau],\n",
       " 6: [modèle montrer base plusieurs résultat grand obtenir classification temps proposer,\n",
       "  outil analyser efficace fournir papier processus utilisation expérimentation montrer traitement,\n",
       "  application réel présenter expérimentation intérêt partir proposer évaluation baser papier,\n",
       "  document extraction information ensemble partir extraire appliquer construire approcher nouveau,\n",
       "  utilisateur outil utilisation baser résultat information pouvoir intérêt travail recherche],\n",
       " 7: [modèle terme article décrire analyser pouvoir proposer différent présent apprentissage,\n",
       "  résultat baser représentation analyser sémantique contexte premier nouveau obtenir qualité,\n",
       "  document extraction information ensemble partir extraire appliquer construire approcher nouveau,\n",
       "  détection information nouveau problème proposer dernier mettre réseau système forme,\n",
       "  graphes structure grand détection recherche étudier nombreux expérimentation réseau modèle],\n",
       " 8: [utilisation présenter système plusieurs article information contexte utilisateur proposer approcher,\n",
       "  système compte meilleur prendre problème proposer partir utilisateur pertinent différent,\n",
       "  partir sémantique structure document processus approcher relation présenter évaluer concept,\n",
       "  document apprentissage structure domaine tâche meilleur grand compte premier résultat,\n",
       "  système analyser baser dernier forme résultat règle visualisation graphes différent],\n",
       " 9: [gestion compte prendre mettre information système règle cadre présenter modèle,\n",
       "  connaissance graphes gestion visualisation niveau représentation outil modèle système analyser,\n",
       "  système compte meilleur prendre problème proposer partir utilisateur pertinent différent,\n",
       "  papier domaine connaissance concept appliquer présent processus présenter résultat texte,\n",
       "  sémantique baser mesure fournir information outil apprentissage dernier nouveau extraire]}"
      ]
     },
     "metadata": {},
     "output_type": "display_data"
    },
    {
     "data": {
      "image/png": "[encoded data removed]",
      "text/plain": [
       "<Figure size 1440x2160 with 1 Axes>"
      ]
     },
     "metadata": {
      "needs_background": "dark"
     },
     "output_type": "display_data"
    }
   ],
   "source": [
    "from matplotlib.ticker import FuncFormatter\n",
    "\n",
    "# Plot\n",
    "df_label_count_sampled_year.plot.barh(figsize=(20, 30), width=0.9)\n",
    "plt.title('Cluster (Topic) influence / Time', fontsize= 24, color='gray')\n",
    "\n",
    "## PlotSwagg ##\n",
    "plt.yticks(fontsize=14, rotation=0, color='gray')\n",
    "plt.xticks(fontsize=14, rotation=0, color='gray')\n",
    "\n",
    "# Cleanest Percent\n",
    "plt.gca().xaxis.set_major_formatter(FuncFormatter(lambda y, _: '{:.0%}'.format(y))) \n",
    "\n",
    "# Less border\n",
    "plt.gca().xaxis.grid(True)\n",
    "plt.gca().spines['top'].set_visible(False)\n",
    "plt.gca().spines['bottom'].set_visible(False)\n",
    "plt.gca().spines['left'].set_edgecolor('gray')\n",
    "plt.gca().spines['right'].set_edgecolor('gray')\n",
    "\n",
    "# Percent line under the barH\n",
    "plt.gca().set_axisbelow(True)\n",
    "\n",
    "display(testing)\n",
    "plt.show()"
   ]
  },
  {
   "cell_type": "code",
   "execution_count": null,
   "metadata": {},
   "outputs": [],
   "source": []
  },
  {
   "cell_type": "code",
   "execution_count": 50,
   "metadata": {},
   "outputs": [],
   "source": [
    "# Dump \n",
    "if False:\n",
    "    lda_model.save('LDA_model.gensim')\n",
    "    id2word.save('dictionary.gensim')\n",
    "    import pickle\n",
    "    pickle.dump(bow_corpus, open('corpus.pkl', 'wb'))"
   ]
  }
 ],
 "metadata": {
  "kernelspec": {
   "display_name": "Python 3",
   "language": "python",
   "name": "python3"
  },
  "language_info": {
   "codemirror_mode": {
    "name": "ipython",
    "version": 3
   },
   "file_extension": ".py",
   "mimetype": "text/x-python",
   "name": "python",
   "nbconvert_exporter": "python",
   "pygments_lexer": "ipython3",
   "version": "3.7.1"
  }
 },
 "nbformat": 4,
 "nbformat_minor": 2
}
