{
 "cells": [
  {
   "cell_type": "code",
   "execution_count": 1,
   "metadata": {},
   "outputs": [],
   "source": [
    "import pandas as pd\n",
    "pd.set_option(\"display.width\", 380)\n",
    "pd.set_option('max_colwidth', 200)\n",
    "\n",
    "from langdetect import detect\n",
    "\n",
    "from IPython.display import display\n",
    "\n",
    "import seaborn as sns\n",
    "import matplotlib.pyplot as plt\n",
    "%matplotlib inline"
   ]
  },
  {
   "cell_type": "code",
   "execution_count": 2,
   "metadata": {},
   "outputs": [],
   "source": [
    "df = pd.read_csv(\"./dataLemmatized.csv\", sep=',')"
   ]
  },
  {
   "cell_type": "code",
   "execution_count": 3,
   "metadata": {},
   "outputs": [
    {
     "data": {
      "image/png": "[encoded data removed]",
      "text/plain": [
       "<Figure size 1440x576 with 1 Axes>"
      ]
     },
     "metadata": {
      "needs_background": "light"
     },
     "output_type": "display_data"
    },
    {
     "name": "stdout",
     "output_type": "stream",
     "text": [
      "1269 articles\n"
     ]
    }
   ],
   "source": [
    "invYr = df.groupby(['year']).count()\n",
    "sns.barplot(x=invYr.index, y=invYr.series)\n",
    "plt.title(\"Distribution du nombre d'article en fonction de l'année\")\n",
    "plt.ylabel(\"Nombre d'article\")\n",
    "fig=plt.gcf()\n",
    "fig.set_size_inches(20,8)\n",
    "plt.show()\n",
    "print(\"%d articles\" % len(df))"
   ]
  },
  {
   "cell_type": "code",
   "execution_count": 4,
   "metadata": {},
   "outputs": [],
   "source": [
    "df['lng_title'] = df['title'].apply( lambda x : detect(x))\n",
    "df['lng_abstract'] = df['abstract'].apply( lambda x : detect(x) if x is not pd.np.nan else pd.np.nan)"
   ]
  },
  {
   "cell_type": "code",
   "execution_count": 5,
   "metadata": {},
   "outputs": [
    {
     "data": {
      "text/html": [
       "<div>\n",
       "<style scoped>\n",
       "    .dataframe tbody tr th:only-of-type {\n",
       "        vertical-align: middle;\n",
       "    }\n",
       "\n",
       "    .dataframe tbody tr th {\n",
       "        vertical-align: top;\n",
       "    }\n",
       "\n",
       "    .dataframe thead th {\n",
       "        text-align: right;\n",
       "    }\n",
       "</style>\n",
       "<table border=\"1\" class=\"dataframe\">\n",
       "  <thead>\n",
       "    <tr style=\"text-align: right;\">\n",
       "      <th></th>\n",
       "      <th>title</th>\n",
       "      <th>abstract</th>\n",
       "      <th>lng_title</th>\n",
       "      <th>lng_abstract</th>\n",
       "    </tr>\n",
       "  </thead>\n",
       "  <tbody>\n",
       "    <tr>\n",
       "      <th>0</th>\n",
       "      <td>#Idéo2017 : une plateforme citoyenne dédiée à l'analyse des tweets lors des événements politiques</td>\n",
       "      <td>Cette plateforme a pour objectif de permettre aux citoyens d'analyserpar eux-mêmes les tweets politiques lors d'événements spécifiques en France.Pour le cas de l'élection présidentielle de 2017, #...</td>\n",
       "      <td>fr</td>\n",
       "      <td>fr</td>\n",
       "    </tr>\n",
       "    <tr>\n",
       "      <th>1</th>\n",
       "      <td>A two level co-clustering algorithm for very large data sets</td>\n",
       "      <td>La classification croisée (co-clustering) est une technique qui permet d'extraire la structuresous-jacente existante entre les lignes et les colonnes d'une table de données sous forme de blocs. Pl...</td>\n",
       "      <td>en</td>\n",
       "      <td>fr</td>\n",
       "    </tr>\n",
       "    <tr>\n",
       "      <th>2</th>\n",
       "      <td>ALGeoSPF: Un modèle de factorisation basé sur du clustering géographique pour la recommandation de POI</td>\n",
       "      <td>La recommandation de points d'intérêts est devenue une caractéristiqueessentielle des réseaux sociaux géo-localisés qui a accompagnél'émergence des échanges massifs de données digitales. Cependant...</td>\n",
       "      <td>fr</td>\n",
       "      <td>fr</td>\n",
       "    </tr>\n",
       "    <tr>\n",
       "      <th>3</th>\n",
       "      <td>Analyse des sentiments à partir des commentaires Facebook publiés en Arabe standard ou dialectal marocain par une approche d'apprentissage automatique</td>\n",
       "      <td>L'analyse des sentiments est un processus pendant lequel la polarité(positive, négative ou neutre) d'un texte donné est déterminée. Nous nous intéressonsdans ce travail à l'analyse des sentiments ...</td>\n",
       "      <td>fr</td>\n",
       "      <td>fr</td>\n",
       "    </tr>\n",
       "    <tr>\n",
       "      <th>4</th>\n",
       "      <td>Analyse en rôles sémantiques pour le résumé automatique</td>\n",
       "      <td>Cet article présente une approche visant à extraire les informations expriméesdans un corpus de textes et en produire un résumé. Plusieurs variantes deméthodes extractives de résumé de texte ont é...</td>\n",
       "      <td>fr</td>\n",
       "      <td>fr</td>\n",
       "    </tr>\n",
       "    <tr>\n",
       "      <th>5</th>\n",
       "      <td>Analyse Ontologique de scénario dans un contexte Big Data</td>\n",
       "      <td>NaN</td>\n",
       "      <td>fr</td>\n",
       "      <td>NaN</td>\n",
       "    </tr>\n",
       "    <tr>\n",
       "      <th>6</th>\n",
       "      <td>Apport de la fouille de données pour la prévention du risque suicidaire</td>\n",
       "      <td>Avec plus de 800 000 décès par an dans le monde, le suicide est latroisième cause de décès évitable. Il y a 20 fois plus de tentatives, impliquant denombreuses hospitalisations, des coûts humains ...</td>\n",
       "      <td>fr</td>\n",
       "      <td>fr</td>\n",
       "    </tr>\n",
       "    <tr>\n",
       "      <th>7</th>\n",
       "      <td>Apport des modèles locaux pour les K-moyennes prédictives</td>\n",
       "      <td>Dans le cadre du clustering prédictif, pour attribuer la classe aux groupesformés à la fin de la phase d'apprentissage, le vote majoritaire est la méthodecommunément utilisée. Cependant, cette app...</td>\n",
       "      <td>fr</td>\n",
       "      <td>fr</td>\n",
       "    </tr>\n",
       "    <tr>\n",
       "      <th>8</th>\n",
       "      <td>Apprendre les relations de préférence et de co-occurrence entre les labels en classification multi-labels</td>\n",
       "      <td>En classification multi-labels, chaque instance est associée àun ou plusieurs labels. Par exemple, un morceau de musique peut êtreassocié aux labels 'heureux' et 'relaxant'. Des relations de co-oc...</td>\n",
       "      <td>fr</td>\n",
       "      <td>fr</td>\n",
       "    </tr>\n",
       "    <tr>\n",
       "      <th>9</th>\n",
       "      <td>Approche contextuelle par régression pour les tests A/B</td>\n",
       "      <td>Les tests A/B sont des procédures utilisées par les entreprises du webet de la santé entre autres, pour mesurer l'impact d'un changement de versiond'une variable par rapport à un objectif. Bien qu...</td>\n",
       "      <td>fr</td>\n",
       "      <td>fr</td>\n",
       "    </tr>\n",
       "  </tbody>\n",
       "</table>\n",
       "</div>"
      ],
      "text/plain": [
       "                                                                                                                                                    title                                                                                                                                                                                                 abstract lng_title lng_abstract\n",
       "0                                                       #Idéo2017 : une plateforme citoyenne dédiée à l'analyse des tweets lors des événements politiques  Cette plateforme a pour objectif de permettre aux citoyens d'analyserpar eux-mêmes les tweets politiques lors d'événements spécifiques en France.Pour le cas de l'élection présidentielle de 2017, #...        fr           fr\n",
       "1                                                                                            A two level co-clustering algorithm for very large data sets  La classification croisée (co-clustering) est une technique qui permet d'extraire la structuresous-jacente existante entre les lignes et les colonnes d'une table de données sous forme de blocs. Pl...        en           fr\n",
       "2                                                  ALGeoSPF: Un modèle de factorisation basé sur du clustering géographique pour la recommandation de POI  La recommandation de points d'intérêts est devenue une caractéristiqueessentielle des réseaux sociaux géo-localisés qui a accompagnél'émergence des échanges massifs de données digitales. Cependant...        fr           fr\n",
       "3  Analyse des sentiments à partir des commentaires Facebook publiés en Arabe standard ou dialectal marocain par une approche d'apprentissage automatique  L'analyse des sentiments est un processus pendant lequel la polarité(positive, négative ou neutre) d'un texte donné est déterminée. Nous nous intéressonsdans ce travail à l'analyse des sentiments ...        fr           fr\n",
       "4                                                                                                 Analyse en rôles sémantiques pour le résumé automatique  Cet article présente une approche visant à extraire les informations expriméesdans un corpus de textes et en produire un résumé. Plusieurs variantes deméthodes extractives de résumé de texte ont é...        fr           fr\n",
       "5                                                                                               Analyse Ontologique de scénario dans un contexte Big Data                                                                                                                                                                                                      NaN        fr          NaN\n",
       "6                                                                                 Apport de la fouille de données pour la prévention du risque suicidaire  Avec plus de 800 000 décès par an dans le monde, le suicide est latroisième cause de décès évitable. Il y a 20 fois plus de tentatives, impliquant denombreuses hospitalisations, des coûts humains ...        fr           fr\n",
       "7                                                                                               Apport des modèles locaux pour les K-moyennes prédictives  Dans le cadre du clustering prédictif, pour attribuer la classe aux groupesformés à la fin de la phase d'apprentissage, le vote majoritaire est la méthodecommunément utilisée. Cependant, cette app...        fr           fr\n",
       "8                                               Apprendre les relations de préférence et de co-occurrence entre les labels en classification multi-labels  En classification multi-labels, chaque instance est associée àun ou plusieurs labels. Par exemple, un morceau de musique peut êtreassocié aux labels 'heureux' et 'relaxant'. Des relations de co-oc...        fr           fr\n",
       "9                                                                                                 Approche contextuelle par régression pour les tests A/B  Les tests A/B sont des procédures utilisées par les entreprises du webet de la santé entre autres, pour mesurer l'impact d'un changement de versiond'une variable par rapport à un objectif. Bien qu...        fr           fr"
      ]
     },
     "metadata": {},
     "output_type": "display_data"
    },
    {
     "name": "stdout",
     "output_type": "stream",
     "text": [
      "French  title: 1134\n",
      "English title 121\n",
      "\n",
      "French  abstract 991\n",
      "English abstract 105\n"
     ]
    }
   ],
   "source": [
    "display(df[['title', 'abstract', 'lng_title', 'lng_abstract']].head(10))\n",
    "print(\"French  title: {}\\nEnglish title {}\\n\\nFrench  abstract {}\\nEnglish abstract {}\".format(\n",
    "   len(df[df['lng_title'] == 'fr']), \n",
    "   len(df[df['lng_title'] == 'en']) ,\n",
    "   len(df[df['lng_abstract'] == 'fr']) ,\n",
    "   len(df[df['lng_abstract'] == 'en'])))\n"
   ]
  },
  {
   "cell_type": "code",
   "execution_count": 6,
   "metadata": {
    "scrolled": true
   },
   "outputs": [
    {
     "data": {
      "text/html": [
       "<div>\n",
       "<style scoped>\n",
       "    .dataframe tbody tr th:only-of-type {\n",
       "        vertical-align: middle;\n",
       "    }\n",
       "\n",
       "    .dataframe tbody tr th {\n",
       "        vertical-align: top;\n",
       "    }\n",
       "\n",
       "    .dataframe thead th {\n",
       "        text-align: right;\n",
       "    }\n",
       "</style>\n",
       "<table border=\"1\" class=\"dataframe\">\n",
       "  <thead>\n",
       "    <tr style=\"text-align: right;\">\n",
       "      <th></th>\n",
       "      <th>lng_title</th>\n",
       "      <th>lng_abstract</th>\n",
       "      <th>lem_prepro_title</th>\n",
       "      <th>lem_prepro_abstract</th>\n",
       "    </tr>\n",
       "  </thead>\n",
       "  <tbody>\n",
       "    <tr>\n",
       "      <th>0</th>\n",
       "      <td>fr</td>\n",
       "      <td>fr</td>\n",
       "      <td>plateforme citoyen dédiée analyser tweets événement politiques</td>\n",
       "      <td>plateforme objectif permettre citoyen analyserpar même tweets politiques événement spécifiques france élection présidentielle analyser quasitemps message candidat fournir principal caractéristique...</td>\n",
       "    </tr>\n",
       "    <tr>\n",
       "      <th>1</th>\n",
       "      <td>en</td>\n",
       "      <td>fr</td>\n",
       "      <td>algorithme clustering niveau grand ensemble donnée</td>\n",
       "      <td>classification croisée clustering technique permettre extraire structuresous jacente existante entre ligne colonne tabler donnée forme bloc plusieurs application utiliser technique cependant nombr...</td>\n",
       "    </tr>\n",
       "    <tr>\n",
       "      <th>2</th>\n",
       "      <td>fr</td>\n",
       "      <td>fr</td>\n",
       "      <td>algeospf modèle factorisation clustering géographique recommandation</td>\n",
       "      <td>recommandation point intérêt devenir caractéristiqueessentielle réseau sociaux localiser accompagnél émergence échange massif donnée digitale cependantles faible densités point intérêt visiter uti...</td>\n",
       "    </tr>\n",
       "    <tr>\n",
       "      <th>3</th>\n",
       "      <td>fr</td>\n",
       "      <td>fr</td>\n",
       "      <td>analyser sentiment partir commentaire facebook publier arabe standard dialectal marocain approche apprentissage automatique</td>\n",
       "      <td>analyser sentiment processus pendant lequel polarité positive négative neutre texte donner déterminée intéressonsdans travail analyser sentiment partir commentairesfacebook réel partager arabe sta...</td>\n",
       "    </tr>\n",
       "    <tr>\n",
       "      <th>4</th>\n",
       "      <td>fr</td>\n",
       "      <td>fr</td>\n",
       "      <td>analyser rôle sémantique résumer automatique</td>\n",
       "      <td>article présente approcher viser extraire information expriméesdans corpus texte produire résumer plusieurs variante deméthodes extractives résumer texte implémenter évaluer leurprincipale origina...</td>\n",
       "    </tr>\n",
       "  </tbody>\n",
       "</table>\n",
       "</div>"
      ],
      "text/plain": [
       "  lng_title lng_abstract                                                                                                             lem_prepro_title                                                                                                                                                                                      lem_prepro_abstract\n",
       "0        fr           fr                                                               plateforme citoyen dédiée analyser tweets événement politiques  plateforme objectif permettre citoyen analyserpar même tweets politiques événement spécifiques france élection présidentielle analyser quasitemps message candidat fournir principal caractéristique...\n",
       "1        en           fr                                                                           algorithme clustering niveau grand ensemble donnée  classification croisée clustering technique permettre extraire structuresous jacente existante entre ligne colonne tabler donnée forme bloc plusieurs application utiliser technique cependant nombr...\n",
       "2        fr           fr                                                         algeospf modèle factorisation clustering géographique recommandation  recommandation point intérêt devenir caractéristiqueessentielle réseau sociaux localiser accompagnél émergence échange massif donnée digitale cependantles faible densités point intérêt visiter uti...\n",
       "3        fr           fr  analyser sentiment partir commentaire facebook publier arabe standard dialectal marocain approche apprentissage automatique  analyser sentiment processus pendant lequel polarité positive négative neutre texte donner déterminée intéressonsdans travail analyser sentiment partir commentairesfacebook réel partager arabe sta...\n",
       "4        fr           fr                                                                                 analyser rôle sémantique résumer automatique  article présente approcher viser extraire information expriméesdans corpus texte produire résumer plusieurs variante deméthodes extractives résumer texte implémenter évaluer leurprincipale origina..."
      ]
     },
     "metadata": {},
     "output_type": "display_data"
    }
   ],
   "source": [
    "# For French\n",
    "df_fr_title = df[df['lng_title'] == 'fr']\n",
    "df_fr_abstract = df[df['lng_abstract'] == 'fr']\n",
    "\n",
    "# Do the French Lem and Prepros\n",
    "df['lem_prepro_title'] = df['titleLemma']\n",
    "df['lem_prepro_abstract'] =  df['abstractLemma']\n",
    "\n",
    "# Display the result\n",
    "display(df[['lng_title', 'lng_abstract' ,'lem_prepro_title' ,'lem_prepro_abstract']].head())"
   ]
  },
  {
   "cell_type": "code",
   "execution_count": 7,
   "metadata": {},
   "outputs": [
    {
     "data": {
      "text/plain": [
       "0                                                                       [plateforme, citoyen, dédiée, analyser, tweets, événement, politiques]\n",
       "1                                                                                    [algorithme, clustering, niveau, grand, ensemble, donnée]\n",
       "2                                                                  [algeospf, modèle, factorisation, clustering, géographique, recommandation]\n",
       "3    [analyser, sentiment, partir, commentaire, facebook, publier, arabe, standard, dialectal, marocain, approche, apprentissage, automatique]\n",
       "4                                                                                           [analyser, rôle, sémantique, résumer, automatique]\n",
       "dtype: object"
      ]
     },
     "metadata": {},
     "output_type": "display_data"
    }
   ],
   "source": [
    "# with ou without the abstract\n",
    "def join_with_nan(subset_df):\n",
    "    res = []\n",
    "    if subset_df['lem_prepro_title'] is not pd.np.nan:\n",
    "        res += subset_df['lem_prepro_title'].split()\n",
    "    # if subset_df['lem_prepro_abstract'] is not pd.np.nan:\n",
    "        # res += subset_df['lem_prepro_abstract'].split()\n",
    "    return res\n",
    "\n",
    "# Join the lematized title and abstract\n",
    "df_all_lem = df.apply(join_with_nan, axis=1)\n",
    "display(df_all_lem.head())\n"
   ]
  },
  {
   "cell_type": "code",
   "execution_count": 8,
   "metadata": {},
   "outputs": [
    {
     "name": "stdout",
     "output_type": "stream",
     "text": [
      "0 analyser\n",
      "1 citoyen\n",
      "2 dédiée\n",
      "3 plateforme\n",
      "4 politiques\n",
      "5 tweets\n",
      "6 événement\n",
      "7 algorithme\n",
      "8 clustering\n",
      "9 donnée\n",
      "10 ensemble\n"
     ]
    },
    {
     "data": {
      "text/plain": [
       "11"
      ]
     },
     "execution_count": 8,
     "metadata": {},
     "output_type": "execute_result"
    }
   ],
   "source": [
    "import gensim\n",
    "\n",
    "# Create Dictionary\n",
    "id2word = gensim.corpora.Dictionary(df_all_lem)\n",
    "\n",
    "count = 0\n",
    "for k, v in id2word.iteritems():\n",
    "    print(k, v)\n",
    "    count += 1\n",
    "    if count > 10:\n",
    "        break\n",
    "count"
   ]
  },
  {
   "cell_type": "code",
   "execution_count": 9,
   "metadata": {},
   "outputs": [],
   "source": [
    "# Filter out tokens that appear in \n",
    "id2word.filter_extremes(no_below=15,   # - less than 15 documents (absolute number)\n",
    "                        no_above=0.5,  # - more than 0.5 documents (fraction of total corpus size, not absolute number)\n",
    "                        keep_n=100000) # - after the above two steps, keep only the first 100000 most frequent tokens.\n",
    "\n",
    "bow_corpus = [id2word.doc2bow(doc) for doc in df_all_lem]"
   ]
  },
  {
   "cell_type": "code",
   "execution_count": 10,
   "metadata": {},
   "outputs": [
    {
     "data": {
      "text/plain": [
       "'plateforme, citoyen, dédiée, analyser, tweets, événement, politiques'"
      ]
     },
     "metadata": {},
     "output_type": "display_data"
    },
    {
     "name": "stdout",
     "output_type": "stream",
     "text": [
      "Word 0 (\"analyser\") appears 1 time.\n"
     ]
    }
   ],
   "source": [
    "bow_doc = bow_corpus[0]\n",
    "\n",
    "# Pandas df\n",
    "display(\", \".join(df_all_lem[0]))\n",
    "\n",
    "# bow representation\n",
    "for i in range(len(bow_doc)):\n",
    "    print(\"Word {} (\\\"{}\\\") appears {} time.\".format(bow_doc[i][0],\n",
    "                                               id2word[bow_doc[i][0]],\n",
    "                                               bow_doc[i][1]))"
   ]
  },
  {
   "cell_type": "code",
   "execution_count": 11,
   "metadata": {},
   "outputs": [
    {
     "data": {
      "text/plain": [
       "[(0, 1.0)]"
      ]
     },
     "metadata": {},
     "output_type": "display_data"
    }
   ],
   "source": [
    "tfidf = gensim.models.TfidfModel(bow_corpus)\n",
    "corpus_tfidf = tfidf[bow_corpus]\n",
    "for doc in corpus_tfidf:\n",
    "    display(doc)\n",
    "    break"
   ]
  },
  {
   "cell_type": "code",
   "execution_count": 12,
   "metadata": {},
   "outputs": [],
   "source": [
    "lda_model = gensim.models.LdaMulticore(bow_corpus, num_topics=10, id2word=id2word, passes=2, workers=2)"
   ]
  },
  {
   "cell_type": "code",
   "execution_count": 13,
   "metadata": {},
   "outputs": [
    {
     "name": "stdout",
     "output_type": "stream",
     "text": [
      "Topic: 0 \n",
      "Words: 0.125*\"approche\" + 0.096*\"connaissance\" + 0.058*\"évaluation\" + 0.049*\"algorithme\" + 0.044*\"donnée\" + 0.040*\"sémantique\" + 0.034*\"extraction\" + 0.031*\"analyser\" + 0.028*\"application\" + 0.028*\"séquence\"\n",
      "Topic: 1 \n",
      "Words: 0.095*\"sémantique\" + 0.078*\"méthode\" + 0.055*\"classification\" + 0.044*\"ontologie\" + 0.042*\"modèle\" + 0.040*\"information\" + 0.040*\"visualisation\" + 0.035*\"intérêt\" + 0.033*\"variable\" + 0.032*\"système\"\n",
      "Topic: 2 \n",
      "Words: 0.089*\"règle\" + 0.073*\"classification\" + 0.064*\"donnée\" + 0.060*\"graphe\" + 0.055*\"grand\" + 0.051*\"visualisation\" + 0.048*\"image\" + 0.038*\"décision\" + 0.034*\"association\" + 0.034*\"arbre\"\n",
      "Topic: 3 \n",
      "Words: 0.135*\"extraction\" + 0.079*\"motif\" + 0.069*\"règle\" + 0.055*\"association\" + 0.035*\"séquentiels\" + 0.035*\"analyser\" + 0.033*\"entre\" + 0.032*\"application\" + 0.030*\"approche\" + 0.029*\"document\"\n",
      "Topic: 4 \n",
      "Words: 0.081*\"partir\" + 0.071*\"texte\" + 0.057*\"détection\" + 0.042*\"extraction\" + 0.041*\"analyse\" + 0.036*\"modèle\" + 0.034*\"modélisation\" + 0.034*\"intégration\" + 0.034*\"apprentissage\" + 0.030*\"réseau\"\n"
     ]
    }
   ],
   "source": [
    "for idx, topic in lda_model.print_topics(-1)[:5]:\n",
    "    print('Topic: {} \\nWords: {}'.format(idx, topic))"
   ]
  },
  {
   "cell_type": "code",
   "execution_count": 14,
   "metadata": {},
   "outputs": [
    {
     "name": "stderr",
     "output_type": "stream",
     "text": [
      "/home/drakirus/.local/lib/python3.7/site-packages/pyLDAvis/_prepare.py:257: FutureWarning: Sorting because non-concatenation axis is not aligned. A future version\n",
      "of pandas will change to not sort by default.\n",
      "\n",
      "To accept the future behavior, pass 'sort=False'.\n",
      "\n",
      "To retain the current behavior and silence the warning, pass 'sort=True'.\n",
      "\n",
      "  return pd.concat([default_term_info] + list(topic_dfs))\n"
     ]
    },
    {
     "data": {
      "text/html": [
       "\n",
       "<link rel=\"stylesheet\" type=\"text/css\" href=\"https://cdn.rawgit.com/bmabey/pyLDAvis/files/ldavis.v1.0.0.css\">\n",
       "\n",
       "\n",
       "<div id=\"ldavis_el24775140350631001808365724973\"></div>\n",
       "<script type=\"text/javascript\">\n",
       "\n",
       "var ldavis_el24775140350631001808365724973_data = {\"mdsDat\": {\"x\": [0.04932297526184165, 0.062398622611710614, -0.14793932098990478, -0.06441443851983958, 0.09469502975975806, -0.06680064690755569, -0.08484797773219785, 0.1756249384075279, -0.08864418775459701, 0.07060500586325678], \"y\": [-0.08426032695414276, 0.04346011024082609, 0.08007743749863619, -0.10978857377622178, -0.0746762091670973, 0.026073014853985426, 0.11709817008322614, 0.12027528026456058, -0.07657047431363756, -0.04168842873013505], \"topics\": [1, 2, 3, 4, 5, 6, 7, 8, 9, 10], \"cluster\": [1, 1, 1, 1, 1, 1, 1, 1, 1, 1], \"Freq\": [8.00914478302002, 8.992691040039062, 9.086705207824707, 12.249608993530273, 9.406625747680664, 11.321932792663574, 12.589364051818848, 9.685585975646973, 9.509815216064453, 9.148521423339844]}, \"tinfo\": {\"Category\": [\"Default\", \"Default\", \"Default\", \"Default\", \"Default\", \"Default\", \"Default\", \"Default\", \"Default\", \"Default\", \"Default\", \"Default\", \"Default\", \"Default\", \"Default\", \"Default\", \"Default\", \"Default\", \"Default\", \"Default\", \"Default\", \"Default\", \"Default\", \"Default\", \"Default\", \"Default\", \"Default\", \"Default\", \"Default\", \"Default\", \"Topic1\", \"Topic1\", \"Topic1\", \"Topic1\", \"Topic1\", \"Topic1\", \"Topic1\", \"Topic1\", \"Topic1\", \"Topic1\", \"Topic1\", \"Topic1\", \"Topic1\", \"Topic1\", \"Topic1\", \"Topic1\", \"Topic1\", \"Topic1\", \"Topic1\", \"Topic1\", \"Topic1\", \"Topic1\", \"Topic1\", \"Topic1\", \"Topic1\", \"Topic1\", \"Topic1\", \"Topic1\", \"Topic1\", \"Topic1\", \"Topic1\", \"Topic1\", \"Topic1\", \"Topic1\", \"Topic1\", \"Topic1\", \"Topic2\", \"Topic2\", \"Topic2\", \"Topic2\", \"Topic2\", \"Topic2\", \"Topic2\", \"Topic2\", \"Topic2\", \"Topic2\", \"Topic2\", \"Topic2\", \"Topic2\", \"Topic2\", \"Topic2\", \"Topic2\", \"Topic2\", \"Topic2\", \"Topic2\", \"Topic2\", \"Topic2\", \"Topic2\", \"Topic2\", \"Topic2\", \"Topic2\", \"Topic2\", \"Topic2\", \"Topic2\", \"Topic2\", \"Topic2\", \"Topic2\", \"Topic2\", \"Topic2\", \"Topic2\", \"Topic2\", \"Topic2\", \"Topic2\", \"Topic3\", \"Topic3\", \"Topic3\", \"Topic3\", \"Topic3\", \"Topic3\", \"Topic3\", \"Topic3\", \"Topic3\", \"Topic3\", \"Topic3\", \"Topic3\", \"Topic3\", \"Topic3\", \"Topic3\", \"Topic3\", \"Topic3\", \"Topic3\", \"Topic3\", \"Topic3\", \"Topic3\", \"Topic3\", \"Topic3\", \"Topic3\", \"Topic3\", \"Topic3\", \"Topic3\", \"Topic3\", \"Topic3\", \"Topic3\", \"Topic3\", \"Topic3\", \"Topic3\", \"Topic3\", \"Topic3\", \"Topic3\", \"Topic4\", \"Topic4\", \"Topic4\", \"Topic4\", \"Topic4\", \"Topic4\", \"Topic4\", \"Topic4\", \"Topic4\", \"Topic4\", \"Topic4\", \"Topic4\", \"Topic4\", \"Topic4\", \"Topic4\", \"Topic4\", \"Topic4\", \"Topic4\", \"Topic4\", \"Topic4\", \"Topic4\", \"Topic4\", \"Topic4\", \"Topic4\", \"Topic4\", \"Topic4\", \"Topic4\", \"Topic4\", \"Topic4\", \"Topic4\", \"Topic4\", \"Topic4\", \"Topic4\", \"Topic4\", \"Topic4\", \"Topic4\", \"Topic4\", \"Topic5\", \"Topic5\", \"Topic5\", \"Topic5\", \"Topic5\", \"Topic5\", \"Topic5\", \"Topic5\", \"Topic5\", \"Topic5\", \"Topic5\", \"Topic5\", \"Topic5\", \"Topic5\", \"Topic5\", \"Topic5\", \"Topic5\", \"Topic5\", \"Topic5\", \"Topic5\", \"Topic5\", \"Topic5\", \"Topic5\", \"Topic5\", \"Topic5\", \"Topic5\", \"Topic5\", \"Topic5\", \"Topic5\", \"Topic5\", \"Topic5\", \"Topic5\", \"Topic5\", \"Topic5\", \"Topic5\", \"Topic5\", \"Topic5\", \"Topic6\", \"Topic6\", \"Topic6\", \"Topic6\", \"Topic6\", \"Topic6\", \"Topic6\", \"Topic6\", \"Topic6\", \"Topic6\", \"Topic6\", \"Topic6\", \"Topic6\", \"Topic6\", \"Topic6\", \"Topic6\", \"Topic6\", \"Topic6\", \"Topic6\", \"Topic6\", \"Topic6\", \"Topic6\", \"Topic6\", \"Topic6\", \"Topic6\", \"Topic6\", \"Topic6\", \"Topic6\", \"Topic6\", \"Topic6\", \"Topic6\", \"Topic6\", \"Topic6\", \"Topic6\", \"Topic6\", \"Topic6\", \"Topic6\", \"Topic6\", \"Topic7\", \"Topic7\", \"Topic7\", \"Topic7\", \"Topic7\", \"Topic7\", \"Topic7\", \"Topic7\", \"Topic7\", \"Topic7\", \"Topic7\", \"Topic7\", \"Topic7\", \"Topic7\", \"Topic7\", \"Topic7\", \"Topic7\", \"Topic7\", \"Topic7\", \"Topic7\", \"Topic7\", \"Topic7\", \"Topic7\", \"Topic7\", \"Topic7\", \"Topic7\", \"Topic7\", \"Topic7\", \"Topic7\", \"Topic7\", \"Topic7\", \"Topic7\", \"Topic7\", \"Topic7\", \"Topic7\", \"Topic7\", \"Topic8\", \"Topic8\", \"Topic8\", \"Topic8\", \"Topic8\", \"Topic8\", \"Topic8\", \"Topic8\", \"Topic8\", \"Topic8\", \"Topic8\", \"Topic8\", \"Topic8\", \"Topic8\", \"Topic8\", \"Topic8\", \"Topic8\", \"Topic8\", \"Topic8\", \"Topic8\", \"Topic8\", \"Topic8\", \"Topic8\", \"Topic8\", \"Topic8\", \"Topic8\", \"Topic8\", \"Topic8\", \"Topic8\", \"Topic8\", \"Topic8\", \"Topic8\", \"Topic8\", \"Topic9\", \"Topic9\", \"Topic9\", \"Topic9\", \"Topic9\", \"Topic9\", \"Topic9\", \"Topic9\", \"Topic9\", \"Topic9\", \"Topic9\", \"Topic9\", \"Topic9\", \"Topic9\", \"Topic9\", \"Topic9\", \"Topic9\", \"Topic9\", \"Topic9\", \"Topic9\", \"Topic9\", \"Topic9\", \"Topic9\", \"Topic9\", \"Topic9\", \"Topic9\", \"Topic9\", \"Topic9\", \"Topic9\", \"Topic9\", \"Topic9\", \"Topic9\", \"Topic9\", \"Topic9\", \"Topic9\", \"Topic10\", \"Topic10\", \"Topic10\", \"Topic10\", \"Topic10\", \"Topic10\", \"Topic10\", \"Topic10\", \"Topic10\", \"Topic10\", \"Topic10\", \"Topic10\", \"Topic10\", \"Topic10\", \"Topic10\", \"Topic10\", \"Topic10\", \"Topic10\", \"Topic10\", \"Topic10\", \"Topic10\", \"Topic10\", \"Topic10\", \"Topic10\", \"Topic10\", \"Topic10\", \"Topic10\", \"Topic10\", \"Topic10\", \"Topic10\", \"Topic10\", \"Topic10\", \"Topic10\", \"Topic10\", \"Topic10\", \"Topic10\", \"Topic10\"], \"Freq\": [269.0, 71.0, 132.0, 115.0, 61.0, 94.0, 72.0, 73.0, 106.0, 78.0, 79.0, 33.0, 36.0, 52.0, 41.0, 54.0, 27.0, 52.0, 56.0, 33.0, 37.0, 32.0, 41.0, 69.0, 29.0, 48.0, 33.0, 43.0, 64.0, 28.0, 16.07408905029297, 34.94489288330078, 26.70616912841797, 4.816529750823975, 13.575630187988281, 7.263205528259277, 7.877171993255615, 6.547791004180908, 5.94227933883667, 4.2163496017456055, 4.456752300262451, 4.008784294128418, 6.851369857788086, 3.33618426322937, 3.6053407192230225, 4.437585830688477, 7.947900295257568, 2.220557928085327, 11.092095375061035, 3.3999359607696533, 4.433405876159668, 4.413968086242676, 3.1594083309173584, 1.8775452375411987, 1.9571863412857056, 8.6237154006958, 1.8774813413619995, 1.537940502166748, 1.326704740524292, 9.405903816223145, 4.884542942047119, 4.530561447143555, 12.211593627929688, 3.9973275661468506, 3.2900707721710205, 2.563904047012329, 10.976675033569336, 24.485595703125, 10.447062492370605, 29.773345947265625, 10.050125122070312, 6.733326435089111, 12.668617248535156, 12.459765434265137, 6.38808012008667, 13.864289283752441, 13.037514686584473, 4.68845272064209, 4.5910468101501465, 5.935044765472412, 6.958775997161865, 17.149084091186523, 4.315819263458252, 10.123978614807129, 2.4478402137756348, 2.811251163482666, 5.063656806945801, 1.6620184183120728, 2.7340710163116455, 2.9756970405578613, 2.9720845222473145, 9.380061149597168, 6.842672824859619, 1.985996127128601, 1.4377914667129517, 1.9408491849899292, 5.143212795257568, 2.9337527751922607, 3.7583706378936768, 3.669433832168579, 5.270894527435303, 7.246179103851318, 4.2177019119262695, 11.930953025817871, 17.409992218017578, 10.728123664855957, 28.21652603149414, 15.232657432556152, 19.070188522338867, 8.590498924255371, 16.251977920532227, 7.248178005218506, 10.793052673339844, 7.644876956939697, 5.469071388244629, 4.759145259857178, 23.251501083374023, 10.11019515991211, 7.466057300567627, 3.0140514373779297, 3.5826690196990967, 3.2024731636047363, 5.827305793762207, 8.107926368713379, 6.4959540367126465, 4.7612128257751465, 2.192652940750122, 1.7496577501296997, 1.2969605922698975, 2.0233004093170166, 1.6423472166061401, 1.9286062717437744, 4.063167572021484, 20.182771682739258, 4.935146808624268, 3.9375669956207275, 2.9250476360321045, 3.1464028358459473, 2.5957090854644775, 14.949860572814941, 33.52268600463867, 11.262720108032227, 23.422807693481445, 14.146480560302734, 11.868098258972168, 57.45195388793945, 29.268796920776367, 9.489980697631836, 4.8406548500061035, 12.331451416015625, 11.459104537963867, 13.852866172790527, 4.0786356925964355, 6.73028039932251, 2.995858669281006, 5.292341232299805, 10.180673599243164, 3.6001105308532715, 14.760873794555664, 12.639565467834473, 2.2894015312194824, 4.458137035369873, 5.442938327789307, 7.238316535949707, 2.4108200073242188, 3.0591108798980713, 2.1810126304626465, 2.793837308883667, 5.434504985809326, 4.784080982208252, 4.630420207977295, 3.292632579803467, 4.579981803894043, 7.919010162353516, 4.0018696784973145, 3.7314960956573486, 13.342317581176758, 23.390581130981445, 11.227592468261719, 9.744908332824707, 11.307339668273926, 26.65030860900879, 8.042608261108398, 9.731609344482422, 6.241182327270508, 6.327946662902832, 18.697656631469727, 5.147221088409424, 6.034778118133545, 6.731576919555664, 11.724451065063477, 6.104115962982178, 4.5906291007995605, 11.035852432250977, 9.786523818969727, 4.979433059692383, 9.780324935913086, 1.7946784496307373, 2.5724620819091797, 13.810111999511719, 3.4467575550079346, 2.0771780014038086, 2.457054853439331, 3.6198692321777344, 3.8258283138275146, 2.1465797424316406, 2.519362688064575, 3.8192403316497803, 4.320013999938965, 3.276873826980591, 9.167011260986328, 4.493623733520508, 3.7586162090301514, 11.944704055786133, 19.434083938598633, 21.68756103515625, 10.283920288085938, 14.122385025024414, 100.66849517822266, 8.718711853027344, 5.024405479431152, 5.864640235900879, 8.639778137207031, 4.820468425750732, 9.884780883789062, 6.915677070617676, 7.8654937744140625, 2.387394666671753, 9.879584312438965, 11.106867790222168, 2.183396100997925, 2.9680252075195312, 2.384246349334717, 9.48056697845459, 5.867219924926758, 2.5207102298736572, 2.4034817218780518, 7.411866664886475, 3.3996810913085938, 1.9793530702590942, 2.6058082580566406, 7.31347131729126, 2.463130235671997, 4.418292999267578, 8.893366813659668, 4.441553115844727, 4.9016947746276855, 4.797683238983154, 5.414257526397705, 5.7702317237854, 2.8583240509033203, 19.672775268554688, 11.027833938598633, 18.005002975463867, 26.071136474609375, 6.773666858673096, 49.84010314941406, 6.3660569190979, 14.103169441223145, 10.601188659667969, 6.69931697845459, 7.976258754730225, 12.21410846710205, 24.08256721496582, 16.918006896972656, 8.756763458251953, 57.972843170166016, 8.795045852661133, 3.2107255458831787, 4.421266078948975, 3.690814256668091, 2.691464424133301, 3.024851083755493, 7.2102766036987305, 4.226335525512695, 7.234266757965088, 2.6915149688720703, 2.372602939605713, 10.6218900680542, 4.040954113006592, 3.710630178451538, 5.009786128997803, 6.909335136413574, 6.288131237030029, 4.3332929611206055, 3.962794065475464, 3.72651743888855, 49.39270782470703, 23.015209197998047, 18.049781799316406, 10.731842041015625, 16.43482780456543, 7.310482025146484, 7.818047523498535, 7.402942180633545, 12.846844673156738, 7.857734680175781, 15.923450469970703, 9.394765853881836, 9.129755020141602, 4.330727577209473, 11.697772026062012, 5.853440761566162, 6.328895092010498, 15.462509155273438, 7.632694244384766, 2.6500284671783447, 5.6214118003845215, 2.8678085803985596, 3.902676820755005, 9.23123836517334, 10.166840553283691, 6.700010299682617, 4.733725547790527, 1.2699674367904663, 2.1565189361572266, 4.224311351776123, 1.713222861289978, 2.9923558235168457, 3.6842739582061768, 13.7899808883667, 36.73040771484375, 16.529207229614258, 5.212000370025635, 7.3535027503967285, 37.05683135986328, 4.805520057678223, 6.466004371643066, 3.878727436065674, 11.30069637298584, 4.966366767883301, 4.515281677246094, 44.90095520019531, 7.380813121795654, 6.4237518310546875, 2.5438344478607178, 2.9368667602539062, 3.2330193519592285, 10.412782669067383, 3.0150327682495117, 4.271233081817627, 5.854007720947266, 4.985255718231201, 2.1505954265594482, 2.0747084617614746, 2.5438215732574463, 2.6987712383270264, 6.5284295082092285, 2.9720993041992188, 2.3469910621643066, 3.4522366523742676, 5.692862510681152, 4.773409843444824, 3.9765119552612305, 3.972576379776001, 34.50060272216797, 13.068735122680664, 17.417736053466797, 15.987452507019043, 11.839617729187012, 39.67500305175781, 6.225844860076904, 5.679481029510498, 5.465822696685791, 5.924389362335205, 4.882650852203369, 8.81946086883545, 11.434083938598633, 4.339345455169678, 5.054762363433838, 2.86606764793396, 4.522743225097656, 2.649576425552368, 3.126948833465576, 5.824326038360596, 8.652508735656738, 4.736852169036865, 2.356771945953369, 2.255845069885254, 3.133936882019043, 2.649672746658325, 6.017092227935791, 4.202414512634277, 3.1643431186676025, 2.3092682361602783, 6.358090877532959, 4.32567024230957, 8.503344535827637, 4.239177703857422, 3.9114391803741455, 3.9112181663513184, 3.1342933177948], \"Term\": [\"donn\\u00e9e\", \"r\\u00e9seau\", \"extraction\", \"classification\", \"ontologie\", \"approche\", \"r\\u00e8gle\", \"syst\\u00e8me\", \"analyser\", \"s\\u00e9mantique\", \"connaissance\", \"sociaux\", \"texte\", \"m\\u00e9thode\", \"association\", \"baser\", \"\\u00e9valuation\", \"visualisation\", \"motif\", \"base\", \"grand\", \"s\\u00e9quence\", \"recherche\", \"partir\", \"s\\u00e9lection\", \"fouille\", \"d\\u00e9couverte\", \"algorithme\", \"mod\\u00e8le\", \"temporelles\", \"\\u00e9valuation\", \"approche\", \"connaissance\", \"domaine\", \"algorithme\", \"outil\", \"s\\u00e9quence\", \"construction\", \"dynamique\", \"cadre\", \"corpus\", \"repr\\u00e9sentation\", \"gestion\", \"analyse\", \"complexe\", \"mod\\u00e9lisation\", \"application\", \"int\\u00e9r\\u00eat\", \"s\\u00e9mantique\", \"utilisateur\", \"d\\u00e9couverte\", \"multi\", \"entre\", \"requ\\u00eate\", \"variable\", \"analyser\", \"supervis\\u00e9\", \"s\\u00e9quentiels\", \"r\\u00e9sumer\", \"extraction\", \"partir\", \"r\\u00e8gle\", \"donn\\u00e9e\", \"apprentissage\", \"mod\\u00e8le\", \"motif\", \"int\\u00e9r\\u00eat\", \"m\\u00e9thode\", \"variable\", \"s\\u00e9mantique\", \"construction\", \"int\\u00e9gration\", \"information\", \"visualisation\", \"concept\", \"ontologie\", \"mod\\u00e8le\", \"annotation\", \"utilisateur\", \"supervis\\u00e9e\", \"document\", \"classification\", \"s\\u00e9lection\", \"syst\\u00e8me\", \"carte\", \"recommandation\", \"automatique\", \"domaine\", \"exploration\", \"mod\\u00e9lisation\", \"nouvelle\", \"analyser\", \"connaissance\", \"ensemble\", \"comparaison\", \"utilisation\", \"partir\", \"gestion\", \"baser\", \"motif\", \"extraction\", \"donn\\u00e9e\", \"approche\", \"d\\u00e9cision\", \"grand\", \"arbre\", \"r\\u00e8gle\", \"image\", \"graphe\", \"concept\", \"visualisation\", \"supervis\\u00e9\", \"association\", \"base\", \"utilisateur\", \"pr\\u00e9diction\", \"classification\", \"application\", \"recherche\", \"cadre\", \"utilisation\", \"ensemble\", \"fouille\", \"apprentissage\", \"d\\u00e9tection\", \"document\", \"variable\", \"r\\u00e9sumer\", \"approcher\", \"repr\\u00e9sentation\", \"identification\", \"visuel\", \"m\\u00e9thode\", \"donn\\u00e9e\", \"connaissance\", \"mod\\u00e8le\", \"motif\", \"partir\", \"approche\", \"s\\u00e9quentiels\", \"motif\", \"identification\", \"association\", \"entre\", \"annotation\", \"extraction\", \"r\\u00e8gle\", \"ensemble\", \"domaine\", \"document\", \"automatique\", \"application\", \"fr\\u00e9quents\", \"mesure\", \"relation\", \"d\\u00e9couverte\", \"apprentissage\", \"exploration\", \"analyser\", \"approche\", \"comparaison\", \"recherche\", \"graphe\", \"partir\", \"variable\", \"s\\u00e9lection\", \"requ\\u00eate\", \"concept\", \"baser\", \"fouille\", \"information\", \"nouvelle\", \"d\\u00e9tection\", \"donn\\u00e9e\", \"connaissance\", \"syst\\u00e8me\", \"analyse\", \"texte\", \"int\\u00e9gration\", \"corpus\", \"mod\\u00e9lisation\", \"partir\", \"structure\", \"temporelles\", \"relation\", \"s\\u00e9rie\", \"d\\u00e9tection\", \"cadre\", \"utilisation\", \"construction\", \"mod\\u00e8le\", \"sociaux\", \"dynamique\", \"apprentissage\", \"r\\u00e9seau\", \"image\", \"connaissance\", \"fr\\u00e9quents\", \"\\u00e9tude\", \"extraction\", \"supervis\\u00e9e\", \"requ\\u00eate\", \"exploration\", \"multi\", \"recherche\", \"annotation\", \"entre\", \"graphe\", \"ontologie\", \"automatique\", \"donn\\u00e9e\", \"classification\", \"analyser\", \"comparaison\", \"base\", \"recherche\", \"pr\\u00e9diction\", \"mesure\", \"donn\\u00e9e\", \"exploration\", \"requ\\u00eate\", \"\\u00e9valuation\", \"gestion\", \"supervis\\u00e9\", \"m\\u00e9thode\", \"clustering\", \"information\", \"approcher\", \"mod\\u00e8le\", \"connaissance\", \"symbolique\", \"recommandation\", \"r\\u00e9sumer\", \"s\\u00e9mantique\", \"baser\", \"\\u00e9tude\", \"int\\u00e9gration\", \"apprentissage\", \"s\\u00e9quence\", \"carte\", \"arbre\", \"syst\\u00e8me\", \"utilisateur\", \"fouille\", \"analyser\", \"d\\u00e9tection\", \"partir\", \"r\\u00e9seau\", \"approche\", \"extraction\", \"grand\", \"supervis\\u00e9e\", \"carte\", \"nouvelle\", \"baser\", \"approcher\", \"classification\", \"symbolique\", \"fouille\", \"grand\", \"ensemble\", \"outil\", \"automatique\", \"approche\", \"apprentissage\", \"multi\", \"donn\\u00e9e\", \"algorithme\", \"objet\", \"mod\\u00e9lisation\", \"visuel\", \"relation\", \"requ\\u00eate\", \"graphe\", \"base\", \"d\\u00e9tection\", \"\\u00e9tude\", \"pr\\u00e9diction\", \"analyser\", \"association\", \"clustering\", \"m\\u00e9thode\", \"s\\u00e9mantique\", \"r\\u00e8gle\", \"ontologie\", \"syst\\u00e8me\", \"application\", \"r\\u00e9seau\", \"sociaux\", \"s\\u00e9lection\", \"\\u00e9tude\", \"clustering\", \"objet\", \"structure\", \"complexe\", \"multi\", \"dynamique\", \"mod\\u00e8le\", \"algorithme\", \"document\", \"variable\", \"s\\u00e9mantique\", \"image\", \"information\", \"classification\", \"d\\u00e9tection\", \"pr\\u00e9diction\", \"application\", \"concept\", \"gestion\", \"approche\", \"analyser\", \"apprentissage\", \"graphe\", \"approcher\", \"exploration\", \"m\\u00e9thode\", \"corpus\", \"automatique\", \"extraction\", \"recommandation\", \"syst\\u00e8me\", \"fouille\", \"symbolique\", \"repr\\u00e9sentation\", \"extraction\", \"r\\u00e9sumer\", \"utilisateur\", \"fr\\u00e9quents\", \"visualisation\", \"outil\", \"utilisation\", \"donn\\u00e9e\", \"information\", \"algorithme\", \"relation\", \"corpus\", \"supervis\\u00e9\", \"connaissance\", \"\\u00e9tude\", \"texte\", \"graphe\", \"automatique\", \"identification\", \"s\\u00e9rie\", \"annotation\", \"temporelles\", \"partir\", \"nouvelle\", \"dynamique\", \"gestion\", \"apprentissage\", \"r\\u00e9seau\", \"motif\", \"s\\u00e9mantique\", \"ontologie\", \"visuel\", \"d\\u00e9couverte\", \"s\\u00e9quence\", \"temporelles\", \"analyser\", \"s\\u00e9rie\", \"r\\u00e9sumer\", \"objet\", \"d\\u00e9cision\", \"requ\\u00eate\", \"gestion\", \"baser\", \"complexe\", \"utilisation\", \"domaine\", \"arbre\", \"fr\\u00e9quents\", \"cadre\", \"clustering\", \"partir\", \"multi\", \"carte\", \"relation\", \"dynamique\", \"repr\\u00e9sentation\", \"application\", \"image\", \"mesure\", \"exploration\", \"syst\\u00e8me\", \"visualisation\", \"donn\\u00e9e\", \"mod\\u00e8le\", \"motif\", \"connaissance\", \"document\"], \"Total\": [269.0, 71.0, 132.0, 115.0, 61.0, 94.0, 72.0, 73.0, 106.0, 78.0, 79.0, 33.0, 36.0, 52.0, 41.0, 54.0, 27.0, 52.0, 56.0, 33.0, 37.0, 32.0, 41.0, 69.0, 29.0, 48.0, 33.0, 43.0, 64.0, 28.0, 27.13762664794922, 94.90437316894531, 79.46424102783203, 15.174695014953613, 43.3873291015625, 28.417436599731445, 32.475250244140625, 29.121742248535156, 26.79397964477539, 19.312496185302734, 21.3856258392334, 23.22067642211914, 40.047000885009766, 20.097270965576172, 21.758129119873047, 28.487855911254883, 53.708404541015625, 15.504046440124512, 78.6934814453125, 25.4510498046875, 33.332176208496094, 38.568233489990234, 28.172470092773438, 21.38146209716797, 23.092687606811523, 106.64675903320312, 23.86985969543457, 20.877168655395508, 18.715227127075195, 132.78271484375, 69.17814636230469, 72.69882202148438, 269.95111083984375, 70.79287719726562, 64.91275024414062, 56.01890182495117, 15.504046440124512, 52.377681732177734, 23.092687606811523, 78.6934814453125, 29.121742248535156, 22.875980377197266, 46.843570709228516, 52.84552001953125, 27.86012077331543, 61.53463363647461, 64.91275024414062, 23.64894676208496, 25.4510498046875, 33.47282028198242, 43.42523193359375, 115.7737808227539, 29.324275970458984, 73.28271484375, 19.290739059448242, 22.52459716796875, 44.39981460571289, 15.174695014953613, 25.569746017456055, 28.487855911254883, 33.694053649902344, 106.64675903320312, 79.46424102783203, 23.77798080444336, 19.15624237060547, 25.94612693786621, 69.17814636230469, 40.047000885009766, 54.52815246582031, 56.01890182495117, 132.78271484375, 269.95111083984375, 94.90437316894531, 23.547922134399414, 37.029170989990234, 25.64629364013672, 72.69882202148438, 39.7141227722168, 51.190345764160156, 27.86012077331543, 52.84552001953125, 23.86985969543457, 41.64133071899414, 33.924625396728516, 25.4510498046875, 23.48674201965332, 115.7737808227539, 53.708404541015625, 41.32213592529297, 19.312496185302734, 25.94612693786621, 23.77798080444336, 48.03066635131836, 70.79287719726562, 58.49174118041992, 43.42523193359375, 23.092687606811523, 18.715227127075195, 14.783123970031738, 23.22067642211914, 19.4099178314209, 24.014053344726562, 52.377681732177734, 269.95111083984375, 79.46424102783203, 64.91275024414062, 56.01890182495117, 69.17814636230469, 94.90437316894531, 20.877168655395508, 56.01890182495117, 19.4099178314209, 41.64133071899414, 28.172470092773438, 23.64894676208496, 132.78271484375, 72.69882202148438, 23.77798080444336, 15.174695014953613, 43.42523193359375, 44.39981460571289, 53.708404541015625, 15.923673629760742, 33.457122802734375, 18.488319396972656, 33.332176208496094, 70.79287719726562, 25.569746017456055, 106.64675903320312, 94.90437316894531, 19.15624237060547, 41.32213592529297, 51.190345764160156, 69.17814636230469, 23.092687606811523, 29.324275970458984, 21.38146209716797, 27.86012077331543, 54.52815246582031, 48.03066635131836, 46.843570709228516, 33.694053649902344, 58.49174118041992, 269.95111083984375, 79.46424102783203, 73.28271484375, 20.097270965576172, 36.22492599487305, 22.875980377197266, 21.3856258392334, 28.487855911254883, 69.17814636230469, 22.91325569152832, 28.179851531982422, 18.488319396972656, 19.07662582397461, 58.49174118041992, 19.312496185302734, 25.94612693786621, 29.121742248535156, 64.91275024414062, 33.90957260131836, 26.79397964477539, 70.79287719726562, 71.21145629882812, 39.7141227722168, 79.46424102783203, 15.923673629760742, 23.561397552490234, 132.78271484375, 33.47282028198242, 21.38146209716797, 25.569746017456055, 38.568233489990234, 41.32213592529297, 23.64894676208496, 28.172470092773438, 51.190345764160156, 61.53463363647461, 44.39981460571289, 269.95111083984375, 115.7737808227539, 106.64675903320312, 19.15624237060547, 33.924625396728516, 41.32213592529297, 23.48674201965332, 33.457122802734375, 269.95111083984375, 25.569746017456055, 21.38146209716797, 27.13762664794922, 40.047000885009766, 23.86985969543457, 52.377681732177734, 38.5538330078125, 46.843570709228516, 14.783123970031738, 64.91275024414062, 79.46424102783203, 15.924079895019531, 22.52459716796875, 18.715227127075195, 78.6934814453125, 54.52815246582031, 23.561397552490234, 22.875980377197266, 70.79287719726562, 32.475250244140625, 19.290739059448242, 25.64629364013672, 73.28271484375, 25.4510498046875, 48.03066635131836, 106.64675903320312, 58.49174118041992, 69.17814636230469, 71.21145629882812, 94.90437316894531, 132.78271484375, 37.029170989990234, 33.47282028198242, 19.290739059448242, 33.694053649902344, 54.52815246582031, 14.783123970031738, 115.7737808227539, 15.924079895019531, 48.03066635131836, 37.029170989990234, 23.77798080444336, 28.417436599731445, 44.39981460571289, 94.90437316894531, 70.79287719726562, 38.568233489990234, 269.95111083984375, 43.3873291015625, 18.664005279541016, 28.487855911254883, 24.014053344726562, 18.488319396972656, 21.38146209716797, 51.190345764160156, 33.924625396728516, 58.49174118041992, 23.561397552490234, 23.48674201965332, 106.64675903320312, 41.64133071899414, 38.5538330078125, 52.377681732177734, 78.6934814453125, 72.69882202148438, 61.53463363647461, 73.28271484375, 53.708404541015625, 71.21145629882812, 33.90957260131836, 29.324275970458984, 23.561397552490234, 38.5538330078125, 18.664005279541016, 22.91325569152832, 21.758129119873047, 38.568233489990234, 26.79397964477539, 64.91275024414062, 43.3873291015625, 43.42523193359375, 23.092687606811523, 78.6934814453125, 39.7141227722168, 46.843570709228516, 115.7737808227539, 58.49174118041992, 23.48674201965332, 53.708404541015625, 27.86012077331543, 40.047000885009766, 94.90437316894531, 106.64675903320312, 70.79287719726562, 51.190345764160156, 14.783123970031738, 25.569746017456055, 52.377681732177734, 21.3856258392334, 44.39981460571289, 132.78271484375, 22.52459716796875, 73.28271484375, 48.03066635131836, 15.924079895019531, 23.22067642211914, 132.78271484375, 18.715227127075195, 25.4510498046875, 15.923673629760742, 52.84552001953125, 28.417436599731445, 25.94612693786621, 269.95111083984375, 46.843570709228516, 43.3873291015625, 18.488319396972656, 21.3856258392334, 23.86985969543457, 79.46424102783203, 23.561397552490234, 36.22492599487305, 51.190345764160156, 44.39981460571289, 19.4099178314209, 19.07662582397461, 23.64894676208496, 28.179851531982422, 69.17814636230469, 33.694053649902344, 26.79397964477539, 40.047000885009766, 70.79287719726562, 71.21145629882812, 56.01890182495117, 78.6934814453125, 61.53463363647461, 24.014053344726562, 33.332176208496094, 32.475250244140625, 28.179851531982422, 106.64675903320312, 19.07662582397461, 18.715227127075195, 18.664005279541016, 23.547922134399414, 21.38146209716797, 40.047000885009766, 54.52815246582031, 21.758129119873047, 25.94612693786621, 15.174695014953613, 25.64629364013672, 15.923673629760742, 19.312496185302734, 38.5538330078125, 69.17814636230469, 38.568233489990234, 19.290739059448242, 18.488319396972656, 26.79397964477539, 23.22067642211914, 53.708404541015625, 39.7141227722168, 33.457122802734375, 25.569746017456055, 73.28271484375, 52.84552001953125, 269.95111083984375, 64.91275024414062, 56.01890182495117, 79.46424102783203, 43.42523193359375], \"loglift\": [30.0, 29.0, 28.0, 27.0, 26.0, 25.0, 24.0, 23.0, 22.0, 21.0, 20.0, 19.0, 18.0, 17.0, 16.0, 15.0, 14.0, 13.0, 12.0, 11.0, 10.0, 9.0, 8.0, 7.0, 6.0, 5.0, 4.0, 3.0, 2.0, 1.0, 2.0009000301361084, 1.5255000591278076, 1.4342000484466553, 1.3769999742507935, 1.3626999855041504, 1.1604000329971313, 1.1081000566482544, 1.0321999788284302, 1.0184999704360962, 1.0027999877929688, 0.9563000202178955, 0.7680000066757202, 0.7590000033378601, 0.7287999987602234, 0.7269999980926514, 0.6651999950408936, 0.6139000058174133, 0.5812000036239624, 0.5652999877929688, 0.5116000175476074, 0.5072000026702881, 0.35690000653266907, 0.33660000562667847, 0.09200000017881393, 0.05660000070929527, 0.009600000455975533, -0.01810000091791153, -0.0835999995470047, -0.12210000306367874, -0.12280000001192093, -0.12600000202655792, -0.250900000333786, -0.5713000297546387, -0.34950000047683716, -0.45750001072883606, -0.5595999956130981, 2.0634000301361084, 1.6483999490737915, 1.6155999898910522, 1.4368000030517578, 1.3449000120162964, 1.1857000589370728, 1.101099967956543, 0.9639000296592712, 0.9359999895095825, 0.9185000061988831, 0.8034999966621399, 0.7904999852180481, 0.6960999965667725, 0.6789000034332275, 0.5777000188827515, 0.499099999666214, 0.4925999939441681, 0.4293000102043152, 0.3443000018596649, 0.3278000056743622, 0.23759999871253967, 0.1972000002861023, 0.17309999465942383, 0.14980000257492065, -0.019300000742077827, -0.022199999541044235, -0.04340000078082085, -0.0738999992609024, -0.18080000579357147, -0.18410000205039978, -0.19020000100135803, -0.20499999821186066, -0.26600000262260437, -0.31690001487731934, -0.817799985408783, -1.2089999914169312, -0.704800009727478, 1.718500018119812, 1.6437000036239624, 1.5268000364303589, 1.4519000053405762, 1.4400999546051025, 1.4108999967575073, 1.2217999696731567, 1.2192000150680542, 1.2065000534057617, 1.048200011253357, 0.90829998254776, 0.8607000112533569, 0.8019999861717224, 0.7930999994277954, 0.7282999753952026, 0.6873000264167786, 0.5408999919891357, 0.41839998960494995, 0.3935000002384186, 0.2890999913215637, 0.2313999980688095, 0.20069999992847443, 0.18780000507831573, 0.04399999976158142, 0.0284000001847744, -0.035100001841783524, -0.041999999433755875, -0.07129999995231628, -0.12349999696016312, -0.1581999957561493, -0.19509999454021454, -0.3806000053882599, -0.4041000008583069, -0.5540000200271606, -0.6920999884605408, -1.200700044631958, 1.7656999826431274, 1.5861999988555908, 1.555400013923645, 1.5242999792099, 1.4107999801635742, 1.4101999998092651, 1.2618999481201172, 1.1899000406265259, 1.1812000274658203, 0.957099974155426, 0.8407999873161316, 0.745199978351593, 0.7445999979972839, 0.7376000285148621, 0.4959999918937683, 0.2797999978065491, 0.25940001010894775, 0.16040000319480896, 0.13920000195503235, 0.12210000306367874, 0.0835999995470047, -0.024700000882148743, -0.12700000405311584, -0.14159999787807465, -0.15760000050067902, -0.1598999947309494, -0.16060000658035278, -0.18310000002384186, -0.20010000467300415, -0.20630000531673431, -0.2069000005722046, -0.21449999511241913, -0.22599999606609344, -0.44749999046325684, -1.4292999505996704, -0.8888999819755554, -0.8777999877929688, 1.9541000127792358, 1.926300048828125, 1.6519999504089355, 1.5778000354766846, 1.4397000074386597, 1.4098999500274658, 1.3167999982833862, 1.3005000352859497, 1.2777999639511108, 1.2603000402450562, 1.2232999801635742, 1.0414999723434448, 0.9053000211715698, 0.8991000056266785, 0.652400016784668, 0.6489999890327454, 0.5996000170707703, 0.5051000118255615, 0.3790999948978424, 0.2874000072479248, 0.2687999904155731, 0.18080000579357147, 0.14900000393390656, 0.10040000081062317, 0.09049999713897705, 0.03220000118017197, 0.021299999207258224, -0.002199999988079071, -0.01590000092983246, -0.0357000008225441, -0.050599999725818634, -0.23170000314712524, -0.29260000586509705, -0.2425999939441681, -1.0189000368118286, -0.885200023651123, -0.9817000031471252, 1.7060999870300293, 1.6212999820709229, 1.5338000059127808, 1.3525999784469604, 1.3158999681472778, 1.1920000314712524, 1.1024999618530273, 0.7301999926567078, 0.646399974822998, 0.6448000073432922, 0.5787000060081482, 0.5109000205993652, 0.4602000117301941, 0.39410001039505005, 0.35510000586509705, 0.29589998722076416, 0.21070000529289246, 0.1914999932050705, 0.1517000049352646, 0.11800000071525574, 0.06210000067949295, -0.05090000107884407, -0.05660000070929527, -0.0746999979019165, -0.07819999754428864, -0.07840000092983246, -0.09839999675750732, -0.10819999873638153, -0.12620000541210175, -0.15690000355243683, -0.2076999992132187, -0.3057999908924103, -0.3995000123977661, -0.46869999170303345, -0.51910001039505, -0.6854000091552734, -0.9575999975204468, -0.382999986410141, 1.5407999753952026, 1.513100028038025, 1.4456000328063965, 1.3344000577926636, 1.2919000387191772, 1.2295000553131104, 1.155500054359436, 0.8468999862670898, 0.8216000199317932, 0.8055999875068665, 0.801800012588501, 0.7817000150680542, 0.7009000182151794, 0.6409000158309937, 0.5896999835968018, 0.5340999960899353, 0.4763000011444092, 0.31220000982284546, 0.2092999964952469, 0.19949999451637268, 0.1453000009059906, 0.11670000106096268, 0.11230000108480453, -0.010499999858438969, -0.01769999973475933, -0.09719999879598618, -0.22010000050067902, -0.23430000245571136, -0.26030001044273376, -0.2685000002384186, -0.27480000257492065, -0.36039999127388, -0.37529999017715454, -0.5809999704360962, -0.8450999855995178, -0.59579998254776, 1.9687000513076782, 1.9470000267028809, 1.8492000102996826, 1.5480999946594238, 1.4818999767303467, 1.3971999883651733, 1.2592999935150146, 1.2563999891281128, 1.235200047492981, 1.1079000234603882, 0.9293000102043152, 0.8044999837875366, 0.7749999761581421, 0.6607999801635742, 0.4284000098705292, 0.41990000009536743, 0.3328000009059906, 0.3212999999523163, 0.29809999465942383, 0.1527000069618225, 0.07750000059604645, 0.0608999989926815, 0.006099999882280827, 0.00430000014603138, -0.01590000092983246, -0.023099999874830246, -0.046300001442432404, -0.11999999731779099, -0.13840000331401825, -0.18310000002384186, -0.18979999423027039, -0.3625999987125397, -1.250100016593933, 1.8622000217437744, 1.6620999574661255, 1.2861000299453735, 1.2359999418258667, 1.2029999494552612, 1.0765999555587769, 0.9933000206947327, 0.9825999736785889, 0.940500020980835, 0.8102999925613403, 0.6085000038146973, 0.6043000221252441, 0.5590999722480774, 0.5048999786376953, 0.44269999861717224, 0.3693999946117401, 0.3675000071525574, 0.35359999537467957, 0.3206000030040741, 0.29679998755455017, 0.2150000035762787, 0.18440000712871552, 0.16609999537467957, 0.15279999375343323, 0.13420000672340393, 0.12319999933242798, 0.007000000216066837, -0.007699999958276749, -0.07519999891519547, -0.08219999819993973, -0.0982000008225441, -0.16769999265670776, -0.349700003862381, -0.2924000024795532, -0.6333000063896179, 1.812999963760376, 1.7832000255584717, 1.7424999475479126, 1.6828999519348145, 1.524399995803833, 1.4027999639511108, 1.2718000411987305, 1.1991000175476074, 1.1634999513626099, 1.0116000175476074, 0.9146999716758728, 0.8784999847412109, 0.8295000195503235, 0.7792999744415283, 0.7559000253677368, 0.7249000072479248, 0.6563000082969666, 0.5982000231742859, 0.570900022983551, 0.5016000270843506, 0.3127000033855438, 0.2944999933242798, 0.2892000079154968, 0.2879999876022339, 0.24570000171661377, 0.22100000083446503, 0.20260000228881836, 0.14550000429153442, 0.0333000011742115, -0.012900000438094139, -0.05299999937415123, -0.1111999973654747, -1.0662000179290771, -0.33709999918937683, -0.2702000141143799, -0.6198999881744385, -0.2371000051498413], \"logprob\": [30.0, 29.0, 28.0, 27.0, 26.0, 25.0, 24.0, 23.0, 22.0, 21.0, 20.0, 19.0, 18.0, 17.0, 16.0, 15.0, 14.0, 13.0, 12.0, 11.0, 10.0, 9.0, 8.0, 7.0, 6.0, 5.0, 4.0, 3.0, 2.0, 1.0, -2.8547000885009766, -2.078200101852417, -2.3469998836517334, -4.059899806976318, -3.0236001014709473, -3.6491000652313232, -3.568000078201294, -3.7527999877929688, -3.8498001098632812, -4.192999839782715, -4.137499809265137, -4.2434000968933105, -3.7074999809265137, -4.42710018157959, -4.3495001792907715, -4.1417999267578125, -3.559000015258789, -4.834199905395508, -3.2256999015808105, -4.408199787139893, -4.1427998542785645, -4.147200107574463, -4.481500148773193, -5.001999855041504, -4.960400104522705, -3.477400064468384, -5.001999855041504, -5.201499938964844, -5.3491997718811035, -3.3905999660491943, -4.045899868011475, -4.121099948883057, -3.129499912261963, -4.246300220489502, -4.440999984741211, -4.690400123596191, -3.3519999980926514, -2.5497000217437744, -3.401400089263916, -2.354099988937378, -3.440200090408325, -3.8406999111175537, -3.2086000442504883, -3.2251999378204346, -3.8933000564575195, -3.1184000968933105, -3.1798999309539795, -4.202700138092041, -4.223599910736084, -3.966900110244751, -3.807800054550171, -2.9058001041412354, -4.2855000495910645, -3.432800054550171, -4.852499961853027, -4.714099884033203, -4.125699996948242, -5.239699840545654, -4.742000102996826, -4.657299995422363, -4.6585001945495605, -3.509200096130371, -3.8245999813079834, -5.061600208282471, -5.3846001625061035, -5.08459997177124, -4.110099792480469, -4.671500205993652, -4.423799991607666, -4.447700023651123, -4.085599899291992, -3.7672998905181885, -4.308499813079834, -3.2790000438690186, -2.901099920272827, -3.3852999210357666, -2.4182000160217285, -3.0346999168395996, -2.809999942779541, -3.6075000762939453, -2.969899892807007, -3.777400016784668, -3.379300117492676, -3.724100112915039, -4.059000015258789, -4.1981000900268555, -2.611799955368042, -3.4446001052856445, -3.74780011177063, -4.654900074005127, -4.48199987411499, -4.594200134277344, -3.9955999851226807, -3.665299892425537, -3.88700008392334, -4.197700023651123, -4.9730000495910645, -5.198699951171875, -5.4980998039245605, -5.053400039672852, -5.26200008392334, -5.101399898529053, -4.356200218200684, -2.7532999515533447, -4.161799907684326, -4.387599945068359, -4.684800148010254, -4.6118998527526855, -4.804299831390381, -3.352099895477295, -2.544600009918213, -3.6352999210357666, -2.90310001373291, -3.407399892807007, -3.5829999446868896, -2.0058999061584473, -2.680299997329712, -3.8066000938415527, -4.479800224304199, -3.5446999073028564, -3.6180999279022217, -3.428299903869629, -4.651100158691406, -4.150199890136719, -4.95959997177124, -4.390600204467773, -3.736299991607666, -4.775899887084961, -3.3649001121520996, -3.5199999809265137, -5.228499889373779, -4.562099933624268, -4.362500190734863, -4.077400207519531, -5.1768999099731445, -4.938700199127197, -5.2769999504089355, -5.029399871826172, -4.364099979400635, -4.491499900817871, -4.524199962615967, -4.865099906921387, -4.535099983215332, -3.987600088119507, -4.670100212097168, -4.739999771118164, -3.2018001079559326, -2.640399932861328, -3.3743999004364014, -3.5160000324249268, -3.367300033569336, -2.509999990463257, -3.7079999446868896, -3.517400026321411, -3.9616000652313232, -3.9477999210357666, -2.8643999099731445, -4.154300212860107, -3.9951999187469482, -3.8859000205993652, -3.3310999870300293, -3.983799934387207, -4.268700122833252, -3.3915998935699463, -3.5118000507354736, -4.187399864196777, -3.512399911880493, -5.207900047302246, -4.847899913787842, -3.1673998832702637, -4.555300235748291, -5.061699867248535, -4.893799781799316, -4.50629997253418, -4.451000213623047, -5.028900146484375, -4.868800163269043, -4.452700138092041, -4.329500198364258, -4.605899810791016, -3.5771000385284424, -4.29010009765625, -4.468699932098389, -3.49780011177063, -3.0111000537872314, -2.9012999534606934, -3.6475000381469727, -3.3303000926971436, -1.3662999868392944, -3.8125998973846436, -4.363800048828125, -4.209099769592285, -3.821700096130371, -4.405200004577637, -3.6870999336242676, -4.044300079345703, -3.915600061416626, -5.107900142669678, -3.6875998973846436, -3.570499897003174, -5.197199821472168, -4.890200138092041, -5.1092000007629395, -3.728800058364868, -4.208700180053711, -5.053500175476074, -5.101200103759766, -3.9749999046325684, -4.75439977645874, -5.295300006866455, -5.020299911499023, -3.9883999824523926, -5.076700210571289, -4.492300033569336, -3.792799949645996, -4.487100124359131, -4.388500213623047, -4.409999847412109, -4.289000034332275, -4.225399971008301, -4.927800178527832, -3.1050000190734863, -3.683799982070923, -3.19350004196167, -2.8234000205993652, -4.171199798583984, -2.1754000186920166, -4.2332000732421875, -3.4377999305725098, -3.7232000827789307, -4.182199954986572, -4.007699966430664, -3.5815999507904053, -2.9026999473571777, -3.2558000087738037, -3.914400100708008, -2.024199962615967, -3.9100000858306885, -4.917699813842773, -4.597799777984619, -4.778299808502197, -5.094099998474121, -4.97730016708374, -4.108699798583984, -4.642899990081787, -4.105400085449219, -5.094099998474121, -5.220200061798096, -3.721299886703491, -4.687699794769287, -4.7729997634887695, -4.472799777984619, -4.151299953460693, -4.245500087738037, -4.6178998947143555, -4.707200050354004, -4.768700122833252, -1.9221999645233154, -2.685800075531006, -2.928800106048584, -3.4488000869750977, -3.022599935531616, -3.83270001411438, -3.765500068664551, -3.8201000690460205, -3.268899917602539, -3.760499954223633, -3.0541999340057373, -3.5817999839782715, -3.6103999614715576, -4.356200218200684, -3.362600088119507, -4.054999828338623, -3.976900100708008, -3.0836000442504883, -3.7894999980926514, -4.847400188446045, -4.095399856567383, -4.768400192260742, -4.460299968719482, -3.599400043487549, -3.5027999877929688, -3.9198999404907227, -4.267300128936768, -5.583000183105469, -5.053500175476074, -4.381100177764893, -5.283599853515625, -4.725900173187256, -4.517899990081787, -3.1796998977661133, -2.2000999450683594, -2.998500108718872, -4.152699947357178, -3.808500051498413, -2.191200017929077, -4.23390007019043, -3.9370999336242676, -4.448200225830078, -3.3787999153137207, -4.201000213623047, -4.296199798583984, -1.9991999864578247, -3.804800033569336, -3.943700075149536, -4.869999885559082, -4.72629976272583, -4.630199909210205, -3.460599899291992, -4.700099945068359, -4.351799964904785, -4.036499977111816, -4.197199821472168, -5.037899971008301, -5.073800086975098, -4.869999885559082, -4.8109002113342285, -3.927500009536743, -4.714399814605713, -4.950500011444092, -4.564599990844727, -4.064499855041504, -4.240600109100342, -4.423299789428711, -4.424300193786621, -2.2239999771118164, -3.194700002670288, -2.907399892807007, -2.9930999279022217, -3.2934999465942383, -2.084199905395508, -3.936199903488159, -4.02810001373291, -4.066400051116943, -3.9858999252319336, -4.179200172424316, -3.5880000591278076, -3.3282999992370605, -4.2972002029418945, -4.144599914550781, -4.711999893188477, -4.255799770355225, -4.790500164031982, -4.624899864196777, -4.002900123596191, -3.607100009918213, -4.20959997177124, -4.907599925994873, -4.951399803161621, -4.622600078582764, -4.790500164031982, -3.9702999591827393, -4.3292999267578125, -4.61299991607666, -4.927999973297119, -3.9151999950408936, -4.3003997802734375, -3.624500036239624, -4.3206000328063965, -4.401000022888184, -4.401100158691406, -4.622499942779541]}, \"token.table\": {\"Topic\": [1, 2, 3, 4, 5, 6, 7, 8, 9, 10, 1, 4, 5, 6, 7, 1, 2, 4, 5, 6, 7, 8, 9, 10, 2, 4, 5, 6, 9, 1, 2, 3, 4, 5, 6, 7, 8, 9, 10, 1, 3, 4, 5, 6, 7, 8, 9, 10, 1, 2, 3, 4, 5, 6, 7, 8, 9, 3, 4, 6, 7, 8, 1, 3, 4, 5, 6, 7, 8, 10, 1, 3, 4, 6, 7, 8, 9, 1, 2, 3, 4, 5, 6, 7, 8, 9, 10, 3, 6, 7, 10, 2, 4, 6, 7, 8, 10, 1, 3, 4, 5, 7, 8, 9, 10, 2, 5, 6, 7, 10, 1, 2, 3, 4, 5, 6, 7, 8, 9, 1, 2, 4, 6, 7, 8, 9, 10, 2, 3, 4, 5, 6, 8, 10, 1, 4, 5, 7, 8, 10, 1, 2, 3, 4, 6, 8, 9, 10, 1, 2, 3, 4, 5, 6, 7, 9, 10, 1, 2, 4, 5, 7, 8, 9, 10, 1, 4, 5, 7, 8, 9, 1, 2, 3, 4, 6, 7, 8, 9, 10, 1, 2, 4, 10, 1, 2, 3, 4, 5, 6, 7, 8, 9, 10, 1, 3, 5, 6, 8, 9, 10, 1, 3, 5, 6, 10, 1, 2, 3, 4, 5, 6, 7, 8, 9, 10, 1, 2, 3, 4, 5, 6, 7, 8, 9, 10, 2, 3, 4, 6, 7, 9, 1, 2, 3, 4, 5, 6, 7, 9, 2, 3, 4, 5, 6, 7, 8, 9, 10, 1, 2, 4, 5, 6, 8, 9, 3, 4, 6, 7, 9, 10, 2, 4, 5, 7, 8, 9, 10, 1, 2, 3, 4, 5, 6, 8, 9, 10, 2, 3, 6, 7, 8, 9, 10, 1, 2, 3, 4, 5, 7, 8, 9, 10, 1, 3, 4, 5, 6, 7, 9, 2, 3, 4, 5, 7, 8, 10, 1, 2, 3, 4, 5, 6, 7, 8, 9, 10, 2, 3, 5, 6, 8, 1, 2, 4, 9, 1, 2, 3, 4, 5, 6, 7, 8, 10, 1, 2, 3, 4, 5, 6, 8, 10, 1, 2, 4, 5, 7, 9, 10, 1, 2, 3, 4, 5, 6, 8, 9, 10, 1, 2, 3, 4, 5, 7, 8, 9, 10, 1, 2, 3, 5, 6, 7, 8, 9, 10, 1, 2, 3, 4, 6, 7, 9, 10, 3, 4, 7, 8, 10, 1, 2, 4, 5, 6, 7, 8, 10, 1, 3, 5, 6, 7, 8, 9, 10, 1, 2, 3, 4, 5, 6, 7, 8, 9, 10, 2, 3, 5, 6, 7, 8, 10, 2, 3, 4, 5, 6, 10, 1, 2, 6, 7, 8, 9, 2, 4, 5, 7, 9, 10, 1, 3, 4, 5, 6, 8, 9, 10, 1, 2, 3, 4, 5, 6, 7, 8, 10, 1, 3, 4, 6, 7, 8, 9, 5, 6, 8, 9, 10, 1, 3, 4, 6, 7, 9, 10, 2, 5, 6, 8, 9, 10, 1, 2, 3, 5, 7, 8, 10, 1, 3, 4, 5, 6, 7, 9, 10, 2, 3, 5, 6, 7, 8, 9, 2, 6, 7, 9, 10, 1, 2, 3, 4, 5, 6, 7, 8, 9, 10, 1, 2, 4, 6, 8, 10, 1, 2, 4, 5, 6, 7, 8, 9, 10, 1, 2, 4, 5, 6, 10, 1, 3, 4, 6, 8, 9, 3, 4, 5, 7, 9, 10, 3, 5, 7, 9, 10, 3, 4, 5, 6, 9, 10, 1, 2, 3, 4, 5, 6, 7, 9, 1, 2, 3, 4, 5, 6, 8, 9, 10, 1, 2, 3, 4, 7, 8, 9, 2, 3, 4, 5, 7, 8, 9, 10, 3, 4, 5, 6, 7, 9, 10, 1, 2, 5, 6, 7, 8, 9, 1, 2, 4, 6, 7, 8, 10], \"Freq\": [0.32267484068870544, 0.02304820343852043, 0.02304820343852043, 0.02304820343852043, 0.02304820343852043, 0.02304820343852043, 0.20743383467197418, 0.20743383467197418, 0.13828922808170319, 0.02304820343852043, 0.14927399158477783, 0.04975799843668938, 0.6468539834022522, 0.04975799843668938, 0.04975799843668938, 0.08439075201749802, 0.08439075201749802, 0.14065125584602356, 0.03750700131058693, 0.08439075201749802, 0.10314425081014633, 0.09376750141382217, 0.009376750327646732, 0.3750700056552887, 0.21142590045928955, 0.507422149181366, 0.08457036316394806, 0.08457036316394806, 0.1268555372953415, 0.14895248413085938, 0.018619060516357422, 0.18619060516357422, 0.2606668472290039, 0.018619060516357422, 0.037238121032714844, 0.07447624206542969, 0.11171435564756393, 0.037238121032714844, 0.11171435564756393, 0.05650286003947258, 0.11300572007894516, 0.1412571519613266, 0.15538285672664642, 0.09888000786304474, 0.24013715982437134, 0.09888000786304474, 0.08475428819656372, 0.014125715009868145, 0.36879226565361023, 0.0421476885676384, 0.03161076828837395, 0.13697998225688934, 0.0105369221419096, 0.052684612572193146, 0.2528861463069916, 0.09483230113983154, 0.0105369221419096, 0.06764470040798187, 0.06764470040798187, 0.13528940081596375, 0.4735129177570343, 0.06764470040798187, 0.03899198770523071, 0.42891186475753784, 0.07798397541046143, 0.07798397541046143, 0.11697597056627274, 0.03899198770523071, 0.03899198770523071, 0.19495993852615356, 0.024014601483941078, 0.2641606330871582, 0.5523358583450317, 0.024014601483941078, 0.09605840593576431, 0.024014601483941078, 0.024014601483941078, 0.04504523426294327, 0.11261308193206787, 0.022522617131471634, 0.24774877727031708, 0.0675678476691246, 0.022522617131471634, 0.2702713906764984, 0.0675678476691246, 0.11261308193206787, 0.022522617131471634, 0.23581689596176147, 0.5600651502609253, 0.11790844798088074, 0.029477111995220184, 0.07335660606622696, 0.09169575572013855, 0.11003490537405014, 0.47681790590286255, 0.01833915151655674, 0.2017306536436081, 0.20711977779865265, 0.15533983707427979, 0.10355988889932632, 0.2588997185230255, 0.05177994444966316, 0.05177994444966316, 0.05177994444966316, 0.15533983707427979, 0.1036766916513443, 0.05183834582567215, 0.1036766916513443, 0.5702217817306519, 0.1036766916513443, 0.017275068908929825, 0.14683808386325836, 0.19866329431533813, 0.008637534454464912, 0.03455013781785965, 0.008637534454464912, 0.4318767189979553, 0.12956301867961884, 0.017275068908929825, 0.0518755167722702, 0.0259377583861351, 0.0259377583861351, 0.1815643012523651, 0.1037510335445404, 0.4150041341781616, 0.0518755167722702, 0.1556265503168106, 0.05220230296254158, 0.05220230296254158, 0.10440460592508316, 0.05220230296254158, 0.6264276504516602, 0.05220230296254158, 0.05220230296254158, 0.1838393360376358, 0.0919196680188179, 0.04595983400940895, 0.0919196680188179, 0.32171884179115295, 0.1838393360376358, 0.035893600434064865, 0.2153615951538086, 0.3230423927307129, 0.1076807975769043, 0.035893600434064865, 0.1076807975769043, 0.07178720086812973, 0.07178720086812973, 0.3397754728794098, 0.08808993548154831, 0.06292138248682022, 0.05033710598945618, 0.12584276497364044, 0.13842704892158508, 0.02516855299472809, 0.12584276497364044, 0.05033710598945618, 0.2403702288866043, 0.34338605403900146, 0.03433860465884209, 0.2403702288866043, 0.03433860465884209, 0.06867720931768417, 0.03433860465884209, 0.03433860465884209, 0.1870415210723877, 0.09352076053619385, 0.46760380268096924, 0.046760380268096924, 0.09352076053619385, 0.14028114080429077, 0.046056173741817474, 0.16119660437107086, 0.11514043062925339, 0.27633702754974365, 0.023028086870908737, 0.046056173741817474, 0.20725278556346893, 0.046056173741817474, 0.06908425688743591, 0.329495906829834, 0.1317983716726303, 0.329495906829834, 0.19769755005836487, 0.0444524921476841, 0.02593062072992325, 0.0740874856710434, 0.029634995386004448, 0.03333937004208565, 0.3741418123245239, 0.21485371887683868, 0.003704374423250556, 0.16669684648513794, 0.03333937004208565, 0.22393089532852173, 0.03732181712985039, 0.18660908937454224, 0.07464363425970078, 0.2985745370388031, 0.07464363425970078, 0.11196544766426086, 0.04246659204363823, 0.5095990896224976, 0.08493318408727646, 0.08493318408727646, 0.2547995448112488, 0.12000416219234467, 0.030001040548086166, 0.030001040548086166, 0.15000520646572113, 0.030001040548086166, 0.030001040548086166, 0.030001040548086166, 0.030001040548086166, 0.06000208109617233, 0.5100176930427551, 0.03419286012649536, 0.05128929391503334, 0.10257858783006668, 0.0854821503162384, 0.32483217120170593, 0.06838572025299072, 0.11967501789331436, 0.13677144050598145, 0.03419286012649536, 0.05128929391503334, 0.08411142975091934, 0.1261671483516693, 0.37850144505500793, 0.04205571487545967, 0.2943900227546692, 0.04205571487545967, 0.10648693889379501, 0.03549564629793167, 0.03549564629793167, 0.4969390332698822, 0.10648693889379501, 0.07099129259586334, 0.10648693889379501, 0.07099129259586334, 0.11732615530490875, 0.03910871967673302, 0.15643487870693207, 0.07821743935346603, 0.35197848081588745, 0.07821743935346603, 0.07821743935346603, 0.03910871967673302, 0.07821743935346603, 0.06777990609407425, 0.03765550255775452, 0.42927274107933044, 0.10543540865182877, 0.0451866053044796, 0.030124403536319733, 0.2786507308483124, 0.12492018938064575, 0.10410016030073166, 0.08328012377023697, 0.2914804518222809, 0.35394054651260376, 0.020820030942559242, 0.06279958039522171, 0.25119832158088684, 0.12559916079044342, 0.06279958039522171, 0.06279958039522171, 0.25119832158088684, 0.18839873373508453, 0.17479461431503296, 0.07491197437047958, 0.024970658123493195, 0.024970658123493195, 0.04994131624698639, 0.22473593056201935, 0.09988263249397278, 0.07491197437047958, 0.22473593056201935, 0.027005735784769058, 0.4590975046157837, 0.08101720362901688, 0.29706308245658875, 0.027005735784769058, 0.054011471569538116, 0.027005735784769058, 0.01953493431210518, 0.01953493431210518, 0.3711637258529663, 0.0976746678352356, 0.07813973724842072, 0.13674452900886536, 0.0976746678352356, 0.11720959842205048, 0.05860479921102524, 0.051520053297281265, 0.10304010659456253, 0.5667206048965454, 0.051520053297281265, 0.051520053297281265, 0.051520053297281265, 0.10304010659456253, 0.05035991966724396, 0.3776994049549103, 0.07553987950086594, 0.1258997917175293, 0.07553987950086594, 0.15107975900173187, 0.10071983933448792, 0.0213476475328207, 0.2775194048881531, 0.0426952950656414, 0.10673823207616806, 0.06404294073581696, 0.1707811802625656, 0.0426952950656414, 0.1280858814716339, 0.14943352341651917, 0.0213476475328207, 0.3059978187084198, 0.043713971972465515, 0.48085370659828186, 0.08742794394493103, 0.043713971972465515, 0.12899857759475708, 0.7094922065734863, 0.06449928879737854, 0.06449928879737854, 0.05977800488471985, 0.05977800488471985, 0.029889002442359924, 0.20922301709651947, 0.05977800488471985, 0.41844603419303894, 0.029889002442359924, 0.029889002442359924, 0.08966700732707977, 0.046215880662202835, 0.20026881992816925, 0.06162117421627045, 0.030810587108135223, 0.18486352264881134, 0.1540529429912567, 0.2464846968650818, 0.06162117421627045, 0.14041070640087128, 0.10530803352594376, 0.07020535320043564, 0.3861294388771057, 0.14041070640087128, 0.07020535320043564, 0.07020535320043564, 0.05355335399508476, 0.07140447199344635, 0.05355335399508476, 0.6069380044937134, 0.035702235996723175, 0.017851117998361588, 0.035702235996723175, 0.07140447199344635, 0.07140447199344635, 0.103712297976017, 0.0518561489880085, 0.02592807449400425, 0.02592807449400425, 0.103712297976017, 0.2333526611328125, 0.3370649516582489, 0.02592807449400425, 0.1296403706073761, 0.019092101603746414, 0.45821043848991394, 0.07636840641498566, 0.03818420320749283, 0.19092100858688354, 0.09546050429344177, 0.07636840641498566, 0.019092101603746414, 0.019092101603746414, 0.02967882715165615, 0.0890364795923233, 0.0593576543033123, 0.0890364795923233, 0.0890364795923233, 0.5342189073562622, 0.0890364795923233, 0.0593576543033123, 0.05357906594872475, 0.05357906594872475, 0.16073720157146454, 0.3750534653663635, 0.26789534091949463, 0.016251010820269585, 0.2275141477584839, 0.03250202164053917, 0.06500404328107834, 0.016251010820269585, 0.06500404328107834, 0.016251010820269585, 0.5687853693962097, 0.24632763862609863, 0.07037932425737381, 0.035189662128686905, 0.07037932425737381, 0.28151729702949524, 0.035189662128686905, 0.17594830691814423, 0.07037932425737381, 0.07227715849876404, 0.07227715849876404, 0.04336629807949066, 0.10118802636861801, 0.39029666781425476, 0.07227715849876404, 0.014455432072281837, 0.014455432072281837, 0.10118802636861801, 0.13009889423847198, 0.04257721081376076, 0.21288606524467468, 0.04257721081376076, 0.42577213048934937, 0.08515442162752151, 0.12773163616657257, 0.04257721081376076, 0.04840020835399628, 0.16940073668956757, 0.09680041670799255, 0.09680041670799255, 0.5324022769927979, 0.02420010417699814, 0.04439590871334076, 0.13318772614002228, 0.13318772614002228, 0.04439590871334076, 0.04439590871334076, 0.621542751789093, 0.054088205099105835, 0.1622646152973175, 0.324529230594635, 0.1622646152973175, 0.1622646152973175, 0.10817641019821167, 0.17226026952266693, 0.08613013476133347, 0.08613013476133347, 0.04306506738066673, 0.04306506738066673, 0.08613013476133347, 0.30145546793937683, 0.1291951984167099, 0.09353896975517273, 0.046769484877586365, 0.046769484877586365, 0.09353896975517273, 0.09353896975517273, 0.23384742438793182, 0.1403084546327591, 0.046769484877586365, 0.23384742438793182, 0.06877690553665161, 0.385150671005249, 0.39890605211257935, 0.013755381107330322, 0.08253228664398193, 0.013755381107330322, 0.027510762214660645, 0.1404268443584442, 0.0702134221792221, 0.688091516494751, 0.0702134221792221, 0.028085367754101753, 0.05343242734670639, 0.10686485469341278, 0.05343242734670639, 0.10686485469341278, 0.05343242734670639, 0.26716214418411255, 0.32059454917907715, 0.029490197077393532, 0.1769411861896515, 0.029490197077393532, 0.6782745718955994, 0.029490197077393532, 0.029490197077393532, 0.043642859905958176, 0.08728571981191635, 0.043642859905958176, 0.3491428792476654, 0.043642859905958176, 0.3491428792476654, 0.043642859905958176, 0.08378767222166061, 0.29325684905052185, 0.08378767222166061, 0.08378767222166061, 0.20946918427944183, 0.08378767222166061, 0.12568150460720062, 0.04189383611083031, 0.17924991250038147, 0.029874984174966812, 0.08962495625019073, 0.029874984174966812, 0.597499668598175, 0.029874984174966812, 0.029874984174966812, 0.06279797852039337, 0.12559595704078674, 0.37678787112236023, 0.31398987770080566, 0.06279797852039337, 0.013645783066749573, 0.13645783066749573, 0.013645783066749573, 0.05458313226699829, 0.013645783066749573, 0.09552048146724701, 0.05458313226699829, 0.04093734920024872, 0.504893958568573, 0.08187469840049744, 0.03410143777728081, 0.13640575110912323, 0.10230431705713272, 0.03410143777728081, 0.6138259172439575, 0.03410143777728081, 0.1397828608751297, 0.38122597336769104, 0.02541506476700306, 0.02541506476700306, 0.11436779797077179, 0.08895272761583328, 0.15249039232730865, 0.05083012953400612, 0.01270753238350153, 0.24634143710136414, 0.061585359275341034, 0.030792679637670517, 0.030792679637670517, 0.09237804263830185, 0.49268287420272827, 0.09579843282699585, 0.047899216413497925, 0.7184882164001465, 0.047899216413497925, 0.047899216413497925, 0.09579843282699585, 0.05242017284035683, 0.05242017284035683, 0.31452104449272156, 0.05242017284035683, 0.10484034568071365, 0.31452104449272156, 0.03548634797334671, 0.3548634648323059, 0.07097269594669342, 0.10645904392004013, 0.4258361756801605, 0.027605300769209862, 0.08281590789556503, 0.6349219083786011, 0.055210601538419724, 0.11042120307683945, 0.027605300769209862, 0.11787333339452744, 0.19645555317401886, 0.19645555317401886, 0.03929110988974571, 0.03929110988974571, 0.07858221977949142, 0.03929110988974571, 0.23574666678905487, 0.0770827978849411, 0.0770827978849411, 0.1541655957698822, 0.03854139894247055, 0.2312483936548233, 0.03854139894247055, 0.03854139894247055, 0.19270698726177216, 0.19270698726177216, 0.08660750091075897, 0.43303751945495605, 0.08660750091075897, 0.08660750091075897, 0.043303750455379486, 0.17321500182151794, 0.043303750455379486, 0.2270769625902176, 0.302769273519516, 0.0567692406475544, 0.0378461591899395, 0.01892307959496975, 0.0378461591899395, 0.2081538736820221, 0.075692318379879, 0.08328456431627274, 0.08328456431627274, 0.04164228215813637, 0.04164228215813637, 0.16656912863254547, 0.04164228215813637, 0.5413496494293213, 0.04244230315089226, 0.04244230315089226, 0.12732690572738647, 0.12732690572738647, 0.12732690572738647, 0.46686533093452454, 0.12732690572738647, 0.5895872712135315, 0.03684920445084572, 0.07369840890169144, 0.2210952341556549, 0.03684920445084572, 0.03684920445084572, 0.03684920445084572], \"Term\": [\"algorithme\", \"algorithme\", \"algorithme\", \"algorithme\", \"algorithme\", \"algorithme\", \"algorithme\", \"algorithme\", \"algorithme\", \"algorithme\", \"analyse\", \"analyse\", \"analyse\", \"analyse\", \"analyse\", \"analyser\", \"analyser\", \"analyser\", \"analyser\", \"analyser\", \"analyser\", \"analyser\", \"analyser\", \"analyser\", \"annotation\", \"annotation\", \"annotation\", \"annotation\", \"annotation\", \"application\", \"application\", \"application\", \"application\", \"application\", \"application\", \"application\", \"application\", \"application\", \"application\", \"apprentissage\", \"apprentissage\", \"apprentissage\", \"apprentissage\", \"apprentissage\", \"apprentissage\", \"apprentissage\", \"apprentissage\", \"apprentissage\", \"approche\", \"approche\", \"approche\", \"approche\", \"approche\", \"approche\", \"approche\", \"approche\", \"approche\", \"approcher\", \"approcher\", \"approcher\", \"approcher\", \"approcher\", \"arbre\", \"arbre\", \"arbre\", \"arbre\", \"arbre\", \"arbre\", \"arbre\", \"arbre\", \"association\", \"association\", \"association\", \"association\", \"association\", \"association\", \"association\", \"automatique\", \"automatique\", \"automatique\", \"automatique\", \"automatique\", \"automatique\", \"automatique\", \"automatique\", \"automatique\", \"automatique\", \"base\", \"base\", \"base\", \"base\", \"baser\", \"baser\", \"baser\", \"baser\", \"baser\", \"baser\", \"cadre\", \"cadre\", \"cadre\", \"cadre\", \"cadre\", \"cadre\", \"cadre\", \"cadre\", \"carte\", \"carte\", \"carte\", \"carte\", \"carte\", \"classification\", \"classification\", \"classification\", \"classification\", \"classification\", \"classification\", \"classification\", \"classification\", \"classification\", \"clustering\", \"clustering\", \"clustering\", \"clustering\", \"clustering\", \"clustering\", \"clustering\", \"clustering\", \"comparaison\", \"comparaison\", \"comparaison\", \"comparaison\", \"comparaison\", \"comparaison\", \"comparaison\", \"complexe\", \"complexe\", \"complexe\", \"complexe\", \"complexe\", \"complexe\", \"concept\", \"concept\", \"concept\", \"concept\", \"concept\", \"concept\", \"concept\", \"concept\", \"connaissance\", \"connaissance\", \"connaissance\", \"connaissance\", \"connaissance\", \"connaissance\", \"connaissance\", \"connaissance\", \"connaissance\", \"construction\", \"construction\", \"construction\", \"construction\", \"construction\", \"construction\", \"construction\", \"construction\", \"corpus\", \"corpus\", \"corpus\", \"corpus\", \"corpus\", \"corpus\", \"document\", \"document\", \"document\", \"document\", \"document\", \"document\", \"document\", \"document\", \"document\", \"domaine\", \"domaine\", \"domaine\", \"domaine\", \"donn\\u00e9e\", \"donn\\u00e9e\", \"donn\\u00e9e\", \"donn\\u00e9e\", \"donn\\u00e9e\", \"donn\\u00e9e\", \"donn\\u00e9e\", \"donn\\u00e9e\", \"donn\\u00e9e\", \"donn\\u00e9e\", \"dynamique\", \"dynamique\", \"dynamique\", \"dynamique\", \"dynamique\", \"dynamique\", \"dynamique\", \"d\\u00e9cision\", \"d\\u00e9cision\", \"d\\u00e9cision\", \"d\\u00e9cision\", \"d\\u00e9cision\", \"d\\u00e9couverte\", \"d\\u00e9couverte\", \"d\\u00e9couverte\", \"d\\u00e9couverte\", \"d\\u00e9couverte\", \"d\\u00e9couverte\", \"d\\u00e9couverte\", \"d\\u00e9couverte\", \"d\\u00e9couverte\", \"d\\u00e9couverte\", \"d\\u00e9tection\", \"d\\u00e9tection\", \"d\\u00e9tection\", \"d\\u00e9tection\", \"d\\u00e9tection\", \"d\\u00e9tection\", \"d\\u00e9tection\", \"d\\u00e9tection\", \"d\\u00e9tection\", \"d\\u00e9tection\", \"ensemble\", \"ensemble\", \"ensemble\", \"ensemble\", \"ensemble\", \"ensemble\", \"entre\", \"entre\", \"entre\", \"entre\", \"entre\", \"entre\", \"entre\", \"entre\", \"exploration\", \"exploration\", \"exploration\", \"exploration\", \"exploration\", \"exploration\", \"exploration\", \"exploration\", \"exploration\", \"extraction\", \"extraction\", \"extraction\", \"extraction\", \"extraction\", \"extraction\", \"extraction\", \"fouille\", \"fouille\", \"fouille\", \"fouille\", \"fouille\", \"fouille\", \"fr\\u00e9quents\", \"fr\\u00e9quents\", \"fr\\u00e9quents\", \"fr\\u00e9quents\", \"fr\\u00e9quents\", \"fr\\u00e9quents\", \"fr\\u00e9quents\", \"gestion\", \"gestion\", \"gestion\", \"gestion\", \"gestion\", \"gestion\", \"gestion\", \"gestion\", \"gestion\", \"grand\", \"grand\", \"grand\", \"grand\", \"grand\", \"grand\", \"grand\", \"graphe\", \"graphe\", \"graphe\", \"graphe\", \"graphe\", \"graphe\", \"graphe\", \"graphe\", \"graphe\", \"identification\", \"identification\", \"identification\", \"identification\", \"identification\", \"identification\", \"identification\", \"image\", \"image\", \"image\", \"image\", \"image\", \"image\", \"image\", \"information\", \"information\", \"information\", \"information\", \"information\", \"information\", \"information\", \"information\", \"information\", \"information\", \"int\\u00e9gration\", \"int\\u00e9gration\", \"int\\u00e9gration\", \"int\\u00e9gration\", \"int\\u00e9gration\", \"int\\u00e9r\\u00eat\", \"int\\u00e9r\\u00eat\", \"int\\u00e9r\\u00eat\", \"int\\u00e9r\\u00eat\", \"mesure\", \"mesure\", \"mesure\", \"mesure\", \"mesure\", \"mesure\", \"mesure\", \"mesure\", \"mesure\", \"mod\\u00e8le\", \"mod\\u00e8le\", \"mod\\u00e8le\", \"mod\\u00e8le\", \"mod\\u00e8le\", \"mod\\u00e8le\", \"mod\\u00e8le\", \"mod\\u00e8le\", \"mod\\u00e9lisation\", \"mod\\u00e9lisation\", \"mod\\u00e9lisation\", \"mod\\u00e9lisation\", \"mod\\u00e9lisation\", \"mod\\u00e9lisation\", \"mod\\u00e9lisation\", \"motif\", \"motif\", \"motif\", \"motif\", \"motif\", \"motif\", \"motif\", \"motif\", \"motif\", \"multi\", \"multi\", \"multi\", \"multi\", \"multi\", \"multi\", \"multi\", \"multi\", \"multi\", \"m\\u00e9thode\", \"m\\u00e9thode\", \"m\\u00e9thode\", \"m\\u00e9thode\", \"m\\u00e9thode\", \"m\\u00e9thode\", \"m\\u00e9thode\", \"m\\u00e9thode\", \"m\\u00e9thode\", \"nouvelle\", \"nouvelle\", \"nouvelle\", \"nouvelle\", \"nouvelle\", \"nouvelle\", \"nouvelle\", \"nouvelle\", \"objet\", \"objet\", \"objet\", \"objet\", \"objet\", \"ontologie\", \"ontologie\", \"ontologie\", \"ontologie\", \"ontologie\", \"ontologie\", \"ontologie\", \"ontologie\", \"outil\", \"outil\", \"outil\", \"outil\", \"outil\", \"outil\", \"outil\", \"outil\", \"partir\", \"partir\", \"partir\", \"partir\", \"partir\", \"partir\", \"partir\", \"partir\", \"partir\", \"partir\", \"pr\\u00e9diction\", \"pr\\u00e9diction\", \"pr\\u00e9diction\", \"pr\\u00e9diction\", \"pr\\u00e9diction\", \"pr\\u00e9diction\", \"pr\\u00e9diction\", \"recherche\", \"recherche\", \"recherche\", \"recherche\", \"recherche\", \"recherche\", \"recommandation\", \"recommandation\", \"recommandation\", \"recommandation\", \"recommandation\", \"recommandation\", \"relation\", \"relation\", \"relation\", \"relation\", \"relation\", \"relation\", \"repr\\u00e9sentation\", \"repr\\u00e9sentation\", \"repr\\u00e9sentation\", \"repr\\u00e9sentation\", \"repr\\u00e9sentation\", \"repr\\u00e9sentation\", \"repr\\u00e9sentation\", \"repr\\u00e9sentation\", \"requ\\u00eate\", \"requ\\u00eate\", \"requ\\u00eate\", \"requ\\u00eate\", \"requ\\u00eate\", \"requ\\u00eate\", \"requ\\u00eate\", \"requ\\u00eate\", \"requ\\u00eate\", \"r\\u00e8gle\", \"r\\u00e8gle\", \"r\\u00e8gle\", \"r\\u00e8gle\", \"r\\u00e8gle\", \"r\\u00e8gle\", \"r\\u00e8gle\", \"r\\u00e9seau\", \"r\\u00e9seau\", \"r\\u00e9seau\", \"r\\u00e9seau\", \"r\\u00e9seau\", \"r\\u00e9sumer\", \"r\\u00e9sumer\", \"r\\u00e9sumer\", \"r\\u00e9sumer\", \"r\\u00e9sumer\", \"r\\u00e9sumer\", \"r\\u00e9sumer\", \"sociaux\", \"sociaux\", \"sociaux\", \"sociaux\", \"sociaux\", \"sociaux\", \"structure\", \"structure\", \"structure\", \"structure\", \"structure\", \"structure\", \"structure\", \"supervis\\u00e9\", \"supervis\\u00e9\", \"supervis\\u00e9\", \"supervis\\u00e9\", \"supervis\\u00e9\", \"supervis\\u00e9\", \"supervis\\u00e9\", \"supervis\\u00e9\", \"supervis\\u00e9e\", \"supervis\\u00e9e\", \"supervis\\u00e9e\", \"supervis\\u00e9e\", \"supervis\\u00e9e\", \"supervis\\u00e9e\", \"supervis\\u00e9e\", \"symbolique\", \"symbolique\", \"symbolique\", \"symbolique\", \"symbolique\", \"syst\\u00e8me\", \"syst\\u00e8me\", \"syst\\u00e8me\", \"syst\\u00e8me\", \"syst\\u00e8me\", \"syst\\u00e8me\", \"syst\\u00e8me\", \"syst\\u00e8me\", \"syst\\u00e8me\", \"syst\\u00e8me\", \"s\\u00e9lection\", \"s\\u00e9lection\", \"s\\u00e9lection\", \"s\\u00e9lection\", \"s\\u00e9lection\", \"s\\u00e9lection\", \"s\\u00e9mantique\", \"s\\u00e9mantique\", \"s\\u00e9mantique\", \"s\\u00e9mantique\", \"s\\u00e9mantique\", \"s\\u00e9mantique\", \"s\\u00e9mantique\", \"s\\u00e9mantique\", \"s\\u00e9mantique\", \"s\\u00e9quence\", \"s\\u00e9quence\", \"s\\u00e9quence\", \"s\\u00e9quence\", \"s\\u00e9quence\", \"s\\u00e9quence\", \"s\\u00e9quentiels\", \"s\\u00e9quentiels\", \"s\\u00e9quentiels\", \"s\\u00e9quentiels\", \"s\\u00e9quentiels\", \"s\\u00e9quentiels\", \"s\\u00e9rie\", \"s\\u00e9rie\", \"s\\u00e9rie\", \"s\\u00e9rie\", \"s\\u00e9rie\", \"s\\u00e9rie\", \"temporelles\", \"temporelles\", \"temporelles\", \"temporelles\", \"temporelles\", \"texte\", \"texte\", \"texte\", \"texte\", \"texte\", \"texte\", \"utilisateur\", \"utilisateur\", \"utilisateur\", \"utilisateur\", \"utilisateur\", \"utilisateur\", \"utilisateur\", \"utilisateur\", \"utilisation\", \"utilisation\", \"utilisation\", \"utilisation\", \"utilisation\", \"utilisation\", \"utilisation\", \"utilisation\", \"utilisation\", \"variable\", \"variable\", \"variable\", \"variable\", \"variable\", \"variable\", \"variable\", \"visualisation\", \"visualisation\", \"visualisation\", \"visualisation\", \"visualisation\", \"visualisation\", \"visualisation\", \"visualisation\", \"visuel\", \"visuel\", \"visuel\", \"visuel\", \"visuel\", \"visuel\", \"visuel\", \"\\u00e9tude\", \"\\u00e9tude\", \"\\u00e9tude\", \"\\u00e9tude\", \"\\u00e9tude\", \"\\u00e9tude\", \"\\u00e9tude\", \"\\u00e9valuation\", \"\\u00e9valuation\", \"\\u00e9valuation\", \"\\u00e9valuation\", \"\\u00e9valuation\", \"\\u00e9valuation\", \"\\u00e9valuation\"]}, \"R\": 30, \"lambda.step\": 0.01, \"plot.opts\": {\"xlab\": \"PC1\", \"ylab\": \"PC2\"}, \"topic.order\": [1, 2, 3, 4, 5, 6, 7, 8, 9, 10]};\n",
       "\n",
       "function LDAvis_load_lib(url, callback){\n",
       "  var s = document.createElement('script');\n",
       "  s.src = url;\n",
       "  s.async = true;\n",
       "  s.onreadystatechange = s.onload = callback;\n",
       "  s.onerror = function(){console.warn(\"failed to load library \" + url);};\n",
       "  document.getElementsByTagName(\"head\")[0].appendChild(s);\n",
       "}\n",
       "\n",
       "if(typeof(LDAvis) !== \"undefined\"){\n",
       "   // already loaded: just create the visualization\n",
       "   !function(LDAvis){\n",
       "       new LDAvis(\"#\" + \"ldavis_el24775140350631001808365724973\", ldavis_el24775140350631001808365724973_data);\n",
       "   }(LDAvis);\n",
       "}else if(typeof define === \"function\" && define.amd){\n",
       "   // require.js is available: use it to load d3/LDAvis\n",
       "   require.config({paths: {d3: \"https://cdnjs.cloudflare.com/ajax/libs/d3/3.5.5/d3.min\"}});\n",
       "   require([\"d3\"], function(d3){\n",
       "      window.d3 = d3;\n",
       "      LDAvis_load_lib(\"https://cdn.rawgit.com/bmabey/pyLDAvis/files/ldavis.v1.0.0.js\", function(){\n",
       "        new LDAvis(\"#\" + \"ldavis_el24775140350631001808365724973\", ldavis_el24775140350631001808365724973_data);\n",
       "      });\n",
       "    });\n",
       "}else{\n",
       "    // require.js not available: dynamically load d3 & LDAvis\n",
       "    LDAvis_load_lib(\"https://cdnjs.cloudflare.com/ajax/libs/d3/3.5.5/d3.min.js\", function(){\n",
       "         LDAvis_load_lib(\"https://cdn.rawgit.com/bmabey/pyLDAvis/files/ldavis.v1.0.0.js\", function(){\n",
       "                 new LDAvis(\"#\" + \"ldavis_el24775140350631001808365724973\", ldavis_el24775140350631001808365724973_data);\n",
       "            })\n",
       "         });\n",
       "}\n",
       "</script>"
      ],
      "text/plain": [
       "<IPython.core.display.HTML object>"
      ]
     },
     "execution_count": 14,
     "metadata": {},
     "output_type": "execute_result"
    }
   ],
   "source": [
    "import pyLDAvis.gensim\n",
    "from metakernel.display import display\n",
    "\n",
    "lda_display = pyLDAvis.gensim.prepare(lda_model, bow_corpus, id2word, sort_topics=False)\n",
    "pyLDAvis.display(lda_display)"
   ]
  },
  {
   "cell_type": "code",
   "execution_count": 15,
   "metadata": {},
   "outputs": [],
   "source": [
    "# BIG Dump :poop:\n",
    "if False:\n",
    "    lda_model.save('LDA_model.gensim')\n",
    "    id2word.save('dictionary.gensim')\n",
    "    import pickle\n",
    "    pickle.dump(bow_corpus, open('corpus.pkl', 'wb'))"
   ]
  }
 ],
 "metadata": {
  "kernelspec": {
   "display_name": "Python 3",
   "language": "python",
   "name": "python3"
  },
  "language_info": {
   "codemirror_mode": {
    "name": "ipython",
    "version": 3
   },
   "file_extension": ".py",
   "mimetype": "text/x-python",
   "name": "python",
   "nbconvert_exporter": "python",
   "pygments_lexer": "ipython3",
   "version": "3.7.1"
  }
 },
 "nbformat": 4,
 "nbformat_minor": 2
}
